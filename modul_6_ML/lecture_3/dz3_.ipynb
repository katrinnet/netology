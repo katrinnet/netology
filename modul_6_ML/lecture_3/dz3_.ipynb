{
 "cells": [
  {
   "cell_type": "code",
   "execution_count": 118,
   "id": "a6be142e",
   "metadata": {},
   "outputs": [],
   "source": [
    "from sklearn import datasets\n",
    "import numpy as np\n",
    "import pandas as pd\n",
    "import matplotlib.pyplot as plt\n",
    "from sklearn.model_selection import train_test_split"
   ]
  },
  {
   "cell_type": "code",
   "execution_count": 119,
   "id": "179e495a",
   "metadata": {},
   "outputs": [],
   "source": [
    "iris = datasets.load_iris()\n",
    "type(iris)\n",
    "\n",
    "X = iris.data[50:,:2]\n",
    "Y = iris.target[50:]"
   ]
  },
  {
   "cell_type": "code",
   "execution_count": 120,
   "id": "5cd11cf5",
   "metadata": {},
   "outputs": [],
   "source": [
    "X_train, X_test, y_train, y_test = train_test_split(X, Y, train_size=0.8, random_state=42)"
   ]
  },
  {
   "cell_type": "code",
   "execution_count": 121,
   "id": "aab9a3d2",
   "metadata": {},
   "outputs": [
    {
     "name": "stdout",
     "output_type": "stream",
     "text": [
      "Число объектов в обучающей выборке: 80\n",
      "Размерность объекта: 2\n"
     ]
    }
   ],
   "source": [
    "m, n = X_train.shape\n",
    "print(f'Число объектов в обучающей выборке: {m}\\nРазмерность объекта: {n}')"
   ]
  },
  {
   "cell_type": "markdown",
   "id": "76058609",
   "metadata": {},
   "source": [
    "Логистическая фунция потерь:"
   ]
  },
  {
   "cell_type": "code",
   "execution_count": 122,
   "id": "3e4d45a2",
   "metadata": {},
   "outputs": [],
   "source": [
    "def log_loss(y_true, y_pred):\n",
    "    return -np.sum(y_true * np.log(y_pred) + (1 - y_true) * np.log(1 - y_pred), axis=0) / len(y_true)"
   ]
  },
  {
   "cell_type": "markdown",
   "id": "20ac063a",
   "metadata": {},
   "source": [
    "Сигмоида:"
   ]
  },
  {
   "cell_type": "code",
   "execution_count": 123,
   "id": "c75e4cb2",
   "metadata": {},
   "outputs": [],
   "source": [
    "def sigmoid(x):\n",
    "    return 1 / (1 + np.exp(-x))"
   ]
  },
  {
   "cell_type": "markdown",
   "id": "9c6cd55c",
   "metadata": {},
   "source": [
    "минимизируем функцию потерь с помощью градиентного спуска и RMSProp:"
   ]
  },
  {
   "cell_type": "code",
   "execution_count": 175,
   "id": "9930e19d",
   "metadata": {},
   "outputs": [],
   "source": [
    "class LogisticRegression:\n",
    "    \n",
    "    def __init__(self):\n",
    "        self.w = np.random.randn(n, 1) * 0.001\n",
    "        self.b = np.random.randn() * 0.001\n",
    "        self.report_every = 10\n",
    "                \n",
    "    def train_grad(self, X, y, learning_rate=0.001, epochs=100):\n",
    "        self.losses_train = []\n",
    "        self.losses_test = []\n",
    "        \n",
    "        for epoch in range(epochs):            \n",
    "            Z = X.reshape(m, n).dot(self.w) + self.b\n",
    "            A = sigmoid(Z)\n",
    "            \n",
    "            dw = np.sum(X.reshape(m, n) * (A.reshape(m, 1) - y.reshape(m, 1)), axis=0) / len(X)\n",
    "            db = np.sum((A.reshape(m, 1) - y.reshape(m, 1)), axis=0) / len(X)\n",
    "            \n",
    "            # gradient step\n",
    "            self.w = self.w - learning_rate * dw.reshape(n, 1)\n",
    "            self.b = self.b - learning_rate * db\n",
    "            \n",
    "            # save loss for plotting\n",
    "            if epoch % self.report_every == 0:\n",
    "                self.losses_train.append(log_loss(y, self.predict(X)))\n",
    "                self.losses_test.append(log_loss(y_test, self.predict(X_test)))\n",
    "    \n",
    "    def train_RMSProp(self, X, y, learning_rate=0.001, epochs=100, gamma=0.9, lr=0.25, eps=0.00001):\n",
    "        \n",
    "        self.losses_train = []\n",
    "        self.losses_test = []\n",
    "        \n",
    "        for epoch in range(epochs):            \n",
    "            dw = np.zeros((n, 1))\n",
    "            dw = np.array([[1.], [1.]])\n",
    "            db = 1\n",
    "            EG = 0\n",
    "            \n",
    "            for i in range(len(X)):\n",
    "                # forward propagation\n",
    "                z = X[i].reshape(1, n).dot(self.w) + self.b\n",
    "                a = sigmoid(z)[0][0]\n",
    "                \n",
    "                # gradient calculation\n",
    "                EG = gamma*EG + (1-gamma)*X[i]*X[i]\n",
    "                v = lr/np.sqrt(EG + eps)*X[i]\n",
    "                dw += (a - y[i]) * v.reshape(n, 1)\n",
    "                db += (a - y[i])\n",
    "                \n",
    "            dw /= len(X)\n",
    "            db /= len(X)\n",
    "            \n",
    "            # gradient step\n",
    "            self.w = self.w - learning_rate * dw\n",
    "            self.b = self.b - learning_rate * db\n",
    "            \n",
    "            # save loss for plotting\n",
    "            if epoch % self.report_every == 0:\n",
    "                self.losses_train.append(log_loss(y, self.predict(X)))\n",
    "                self.losses_test.append(log_loss(y_test, self.predict(X_test)))\n",
    "    \n",
    "    def predict(self, X):        \n",
    "        return np.array([sigmoid(x.reshape(1, n).dot(self.w) + self.b)[0][0] \n",
    "                         for x in X])"
   ]
  },
  {
   "cell_type": "code",
   "execution_count": 176,
   "id": "de5c7aa6",
   "metadata": {},
   "outputs": [],
   "source": [
    "model = LogisticRegression()\n",
    "# model.train_grad(X_train, y_train, epochs=100)"
   ]
  },
  {
   "cell_type": "code",
   "execution_count": 99,
   "id": "ed6d868e",
   "metadata": {},
   "outputs": [
    {
     "name": "stdout",
     "output_type": "stream",
     "text": [
      "Точность на тестовой выборке: 60.0%\n"
     ]
    }
   ],
   "source": [
    "test_prediction = np.array(model.predict(X_test))\n",
    "test_accuracy = np.sum((test_prediction > 0.5) == y_test) / len(test_prediction)\n",
    "print(f'Точность на тестовой выборке: {round(test_accuracy * 100, 2)}%')"
   ]
  },
  {
   "cell_type": "code",
   "execution_count": 100,
   "id": "92ba43c5",
   "metadata": {},
   "outputs": [
    {
     "name": "stdout",
     "output_type": "stream",
     "text": [
      "Точность на тестовой выборке: 47.5%\n"
     ]
    }
   ],
   "source": [
    "train_prediction = np.array(model.predict(X_train))\n",
    "train_accuracy = np.sum((train_prediction > 0.5) == y_train) / len(train_prediction)\n",
    "print(f'Точность на тестовой выборке: {round(train_accuracy * 100, 2)}%')"
   ]
  },
  {
   "cell_type": "code",
   "execution_count": 177,
   "id": "2ee97184",
   "metadata": {},
   "outputs": [],
   "source": [
    "model.train_RMSProp(X_train, y_train, epochs=100)"
   ]
  },
  {
   "cell_type": "code",
   "execution_count": 178,
   "id": "fba18161",
   "metadata": {},
   "outputs": [
    {
     "name": "stdout",
     "output_type": "stream",
     "text": [
      "Точность на тестовой выборке: 60.0%\n"
     ]
    }
   ],
   "source": [
    "test_prediction = np.array(model.predict(X_test))\n",
    "test_accuracy = np.sum((test_prediction > 0.5) == y_test) / len(test_prediction)\n",
    "print(f'Точность на тестовой выборке: {round(test_accuracy * 100, 2)}%')"
   ]
  },
  {
   "cell_type": "code",
   "execution_count": 179,
   "id": "b86caa85",
   "metadata": {},
   "outputs": [
    {
     "name": "stdout",
     "output_type": "stream",
     "text": [
      "Точность на тестовой выборке: 47.5%\n"
     ]
    }
   ],
   "source": [
    "train_prediction = np.array(model.predict(X_train))\n",
    "train_accuracy = np.sum((train_prediction > 0.5) == y_train) / len(train_prediction)\n",
    "print(f'Точность на тестовой выборке: {round(train_accuracy * 100, 2)}%')"
   ]
  }
 ],
 "metadata": {
  "kernelspec": {
   "display_name": "Python 3",
   "language": "python",
   "name": "python3"
  },
  "language_info": {
   "codemirror_mode": {
    "name": "ipython",
    "version": 3
   },
   "file_extension": ".py",
   "mimetype": "text/x-python",
   "name": "python",
   "nbconvert_exporter": "python",
   "pygments_lexer": "ipython3",
   "version": "3.8.8"
  }
 },
 "nbformat": 4,
 "nbformat_minor": 5
}
