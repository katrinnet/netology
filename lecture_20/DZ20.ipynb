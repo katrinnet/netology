{
 "cells": [
  {
   "cell_type": "code",
   "execution_count": 1,
   "id": "6ae93527",
   "metadata": {},
   "outputs": [],
   "source": [
    "import numpy as np\n",
    "import pandas as pd\n",
    "import scipy.stats as stats \n",
    "import matplotlib.pyplot as plt  #Пакет для построения графиков и прочего\n",
    "import seaborn as sns"
   ]
  },
  {
   "cell_type": "markdown",
   "id": "b5217fde",
   "metadata": {},
   "source": [
    "Задание № 1 (Обязательно) Вам даны результаты проверки двух препаратов.\n",
    "Требуется:\n",
    "\n",
    "Оценить, есть ли различие в эффекте у этих пациентов?\n",
    "Визуально подтвердить результат\n",
    "A - результаты для группы людей получающих препарат А.\n",
    "\n",
    "B - результаты для другой группы людей, получающих препарат B."
   ]
  },
  {
   "cell_type": "code",
   "execution_count": 6,
   "id": "6d89fa5a",
   "metadata": {},
   "outputs": [
    {
     "name": "stdout",
     "output_type": "stream",
     "text": [
      "Statistics=1930.000, p=0.041\n"
     ]
    },
    {
     "data": {
      "image/png": "[encoded data removed]",
      "text/plain": [
       "<Figure size 432x288 with 1 Axes>"
      ]
     },
     "metadata": {
      "needs_background": "light"
     },
     "output_type": "display_data"
    }
   ],
   "source": [
    "from scipy.stats import wilcoxon # используем его, т.к. выборки зависимы B = A + \n",
    "\n",
    "np.random.seed(11)\n",
    "A = stats.norm.rvs(scale=30, loc=11, size=100)\n",
    "B = A + stats.norm.rvs(scale=54, loc=11, size=100)\n",
    "\n",
    "plt.hist(B, bins=15)\n",
    "plt.hist(A, bins=15)\n",
    "\n",
    "stat, p = wilcoxon(A, B)\n",
    "print('Statistics=%.3f, p=%.3f' % (stat, p))"
   ]
  },
  {
   "cell_type": "markdown",
   "id": "45917b13",
   "metadata": {},
   "source": [
    "существенные различия в эффекте двух препаратов есть, т.к. p_value =  0.041 < уровня значимости 0.05"
   ]
  },
  {
   "cell_type": "markdown",
   "id": "f7a5b986",
   "metadata": {},
   "source": [
    "Задание № 2 (Обязательно) Вам даны результаты проверки двух препаратов.\n",
    "Требуется:\n",
    "\n",
    "Оценить, есть ли различие в эффекте у этих пациентов?\n",
    "Визуально подтвердить результат\n",
    "А - группа людей без препарата.\n",
    "B - та же группа людей, но получающая препарат"
   ]
  },
  {
   "cell_type": "code",
   "execution_count": 7,
   "id": "ad7a69f4",
   "metadata": {},
   "outputs": [
    {
     "name": "stdout",
     "output_type": "stream",
     "text": [
      "Statistics=4343.000, p=0.054\n"
     ]
    }
   ],
   "source": [
    "np.random.seed(11)\n",
    "A = stats.norm.rvs(scale=30, loc=11, size=100)\n",
    "B = A + stats.norm.rvs(scale=54, loc=11, size=100)\n",
    "\n",
    "# не очень понятно, почему выборки те же самые, а тест нужно применять другой?? попробуем критерий Манна-Уитни\n",
    "from scipy.stats import mannwhitneyu\n",
    "\n",
    "stat, p = mannwhitneyu(A, B) # U-тест Манна-Уитни\n",
    "print('Statistics=%.3f, p=%.3f' % (stat, p))"
   ]
  },
  {
   "cell_type": "markdown",
   "id": "c860d75b",
   "metadata": {},
   "source": [
    "по этому критерию получили p=0.054 > 0.05, следовательно различий в эффекте нет"
   ]
  },
  {
   "cell_type": "code",
   "execution_count": 8,
   "id": "2bddcd7b",
   "metadata": {},
   "outputs": [
    {
     "data": {
      "text/plain": [
       "(-1.733800647210997, 0.08451003973499756)"
      ]
     },
     "execution_count": 8,
     "metadata": {},
     "output_type": "execute_result"
    }
   ],
   "source": [
    "t, p_value = stats.ttest_ind(A, B) #Критерий Стьюдента (t-test)\n",
    "t, p_value"
   ]
  },
  {
   "cell_type": "code",
   "execution_count": null,
   "id": "09fa843b",
   "metadata": {},
   "outputs": [],
   "source": [
    "по критерию Стьюдента получили p=0.084 > 0.05, аналогичый результат"
   ]
  },
  {
   "cell_type": "markdown",
   "id": "6aec6f99",
   "metadata": {},
   "source": [
    "Задание № 3 (Обязательно) Допустим вы решили устроить дачный эксперимент. Берем и поливаем одни огурцы водой, другие огурцы водой с удобнением, третью группу огурцов будем поливать минералкой.\n",
    "Используя дисперсионный анализ, сделайте выводы о распредлениях результатов. Есть ли эффект от удобрения по сравнению с минералкой?\n",
    "Помимо результата статистического теста, продемонстрируйте отличия визуально с помощью boxplot или hist\n",
    "water = [1,2,3,4,2,4,2,4,5,2,3,4,2,1,3,4,3,2,5,1]\n",
    "\n",
    "nutri = [1,2,4,6,5,6,7,5,4,5,6,7,4,3,5,5,6,5,4,3,5]\n",
    "\n",
    "mineral =[2,1,1,3,2,4,2,4,5,4,3,2,3,2,3,1,3,4,5,1,4]"
   ]
  },
  {
   "cell_type": "code",
   "execution_count": 11,
   "id": "701e9bf9",
   "metadata": {},
   "outputs": [
    {
     "name": "stdout",
     "output_type": "stream",
     "text": [
      "18.128724672228838 0.0001213673340124552\n"
     ]
    }
   ],
   "source": [
    "water = [1,2,3,4,2,4,2,4,5,2,3,4,2,1,3,4,3,2,5,1]\n",
    "nutri = [1,2,4,6,5,6,7,5,4,5,6,7,4,3,5,5,6,5,4,3,5]\n",
    "mineral =[2,1,1,3,2,4,2,4,5,4,3,2,3,2,3,1,3,4,5,1,4]\n",
    "\n",
    "from scipy.stats import f_oneway\n",
    "\n",
    "F, p = f_oneway(nutri, mineral)  # дисперсионный анализ (ДА) в python\n",
    "\n",
    "print(F, p)   # Смотрим на результаты ДА"
   ]
  },
  {
   "cell_type": "markdown",
   "id": "37fa4ef4",
   "metadata": {},
   "source": [
    "p = 0.0001 < 0.05, следовательно эффект удобрений в сравнении с минералкой есть"
   ]
  },
  {
   "cell_type": "code",
   "execution_count": 27,
   "id": "b2ba92cd",
   "metadata": {},
   "outputs": [
    {
     "data": {
      "image/png": "[encoded data removed]",
      "text/plain": [
       "<Figure size 432x288 with 1 Axes>"
      ]
     },
     "metadata": {
      "needs_background": "light"
     },
     "output_type": "display_data"
    },
    {
     "data": {
      "text/plain": [
       "Text(0.5, 1.0, 'Распределение оценок критиков')"
      ]
     },
     "execution_count": 27,
     "metadata": {},
     "output_type": "execute_result"
    },
    {
     "data": {
      "image/png": "[encoded data removed]",
      "text/plain": [
       "<Figure size 432x288 with 1 Axes>"
      ]
     },
     "metadata": {
      "needs_background": "light"
     },
     "output_type": "display_data"
    }
   ],
   "source": [
    "df = pd.DataFrame()\n",
    "df['вода с удобнериями'] = nutri\n",
    "df['минеральная вода'] = mineral\n",
    "\n",
    "df[['вода с удобнериями', 'минеральная вода']].plot(kind='box', title='Распределение размеров огурцов', grid=True)\n",
    "plt.show()\n",
    "\n",
    "sns.histplot(df[['вода с удобнериями', 'минеральная вода']])\n",
    "plt.title('Распределение размеров огурцов')"
   ]
  },
  {
   "cell_type": "markdown",
   "id": "ce0023ff",
   "metadata": {},
   "source": [
    "Описание набора данных\n",
    "Профессор Оук скопировал все содержимое память одного устройства Pokedex, в результате чего получился набор данных, \n",
    "с которым Вы будете работать в этой задаче. В этом файле каждая строка представляет характеристики одного покемона:\n",
    "\n",
    "pid: Numeric - ID покемона\n",
    "HP: Numeric - Очки здоровья\n",
    "Attack: Numeric - Сила обычной атаки\n",
    "Defense: Numeric - Сила обычной защиты\n",
    "Sp. Atk: Numeric - Сила специальной атаки\n",
    "Sp. Def: Numeric - Сила специальной защиты\n",
    "Speed: Numeric - Скорость движений\n",
    "Legendary: Boolean - «True», если покемон редкий\n",
    "Class 1: Categorical - Класс покемона\n",
    "Class 2: Categorical - Класс покемона\n",
    "    \n",
    "    "
   ]
  },
  {
   "cell_type": "code",
   "execution_count": 110,
   "id": "d2754816",
   "metadata": {},
   "outputs": [
    {
     "data": {
      "text/html": [
       "<div>\n",
       "<style scoped>\n",
       "    .dataframe tbody tr th:only-of-type {\n",
       "        vertical-align: middle;\n",
       "    }\n",
       "\n",
       "    .dataframe tbody tr th {\n",
       "        vertical-align: top;\n",
       "    }\n",
       "\n",
       "    .dataframe thead th {\n",
       "        text-align: right;\n",
       "    }\n",
       "</style>\n",
       "<table border=\"1\" class=\"dataframe\">\n",
       "  <thead>\n",
       "    <tr style=\"text-align: right;\">\n",
       "      <th></th>\n",
       "      <th>pid</th>\n",
       "      <th>Name</th>\n",
       "      <th>Class 1</th>\n",
       "      <th>Class 2</th>\n",
       "      <th>HP</th>\n",
       "      <th>Attack</th>\n",
       "      <th>Defense</th>\n",
       "      <th>Sp. Atk</th>\n",
       "      <th>Sp. Def</th>\n",
       "      <th>Speed</th>\n",
       "      <th>Legendary</th>\n",
       "    </tr>\n",
       "  </thead>\n",
       "  <tbody>\n",
       "    <tr>\n",
       "      <th>0</th>\n",
       "      <td>1</td>\n",
       "      <td>Bulbasaur</td>\n",
       "      <td>Grass</td>\n",
       "      <td>Poison</td>\n",
       "      <td>45</td>\n",
       "      <td>49</td>\n",
       "      <td>49</td>\n",
       "      <td>65</td>\n",
       "      <td>65</td>\n",
       "      <td>45</td>\n",
       "      <td>False</td>\n",
       "    </tr>\n",
       "    <tr>\n",
       "      <th>1</th>\n",
       "      <td>2</td>\n",
       "      <td>Ivysaur</td>\n",
       "      <td>Grass</td>\n",
       "      <td>Poison</td>\n",
       "      <td>60</td>\n",
       "      <td>62</td>\n",
       "      <td>63</td>\n",
       "      <td>80</td>\n",
       "      <td>80</td>\n",
       "      <td>60</td>\n",
       "      <td>False</td>\n",
       "    </tr>\n",
       "    <tr>\n",
       "      <th>2</th>\n",
       "      <td>3</td>\n",
       "      <td>Venusaur</td>\n",
       "      <td>Grass</td>\n",
       "      <td>Poison</td>\n",
       "      <td>80</td>\n",
       "      <td>82</td>\n",
       "      <td>83</td>\n",
       "      <td>100</td>\n",
       "      <td>100</td>\n",
       "      <td>80</td>\n",
       "      <td>False</td>\n",
       "    </tr>\n",
       "    <tr>\n",
       "      <th>3</th>\n",
       "      <td>4</td>\n",
       "      <td>Mega Venusaur</td>\n",
       "      <td>Grass</td>\n",
       "      <td>Poison</td>\n",
       "      <td>80</td>\n",
       "      <td>100</td>\n",
       "      <td>123</td>\n",
       "      <td>122</td>\n",
       "      <td>120</td>\n",
       "      <td>80</td>\n",
       "      <td>False</td>\n",
       "    </tr>\n",
       "    <tr>\n",
       "      <th>4</th>\n",
       "      <td>5</td>\n",
       "      <td>Charmander</td>\n",
       "      <td>Fire</td>\n",
       "      <td>NaN</td>\n",
       "      <td>39</td>\n",
       "      <td>52</td>\n",
       "      <td>43</td>\n",
       "      <td>60</td>\n",
       "      <td>50</td>\n",
       "      <td>65</td>\n",
       "      <td>False</td>\n",
       "    </tr>\n",
       "    <tr>\n",
       "      <th>5</th>\n",
       "      <td>6</td>\n",
       "      <td>Charmeleon</td>\n",
       "      <td>Fire</td>\n",
       "      <td>NaN</td>\n",
       "      <td>58</td>\n",
       "      <td>64</td>\n",
       "      <td>58</td>\n",
       "      <td>80</td>\n",
       "      <td>65</td>\n",
       "      <td>80</td>\n",
       "      <td>False</td>\n",
       "    </tr>\n",
       "    <tr>\n",
       "      <th>6</th>\n",
       "      <td>7</td>\n",
       "      <td>Charizard</td>\n",
       "      <td>Fire</td>\n",
       "      <td>Flying</td>\n",
       "      <td>78</td>\n",
       "      <td>84</td>\n",
       "      <td>78</td>\n",
       "      <td>109</td>\n",
       "      <td>85</td>\n",
       "      <td>100</td>\n",
       "      <td>False</td>\n",
       "    </tr>\n",
       "    <tr>\n",
       "      <th>7</th>\n",
       "      <td>8</td>\n",
       "      <td>Mega Charizard X</td>\n",
       "      <td>Fire</td>\n",
       "      <td>Dragon</td>\n",
       "      <td>78</td>\n",
       "      <td>130</td>\n",
       "      <td>111</td>\n",
       "      <td>130</td>\n",
       "      <td>85</td>\n",
       "      <td>100</td>\n",
       "      <td>False</td>\n",
       "    </tr>\n",
       "    <tr>\n",
       "      <th>8</th>\n",
       "      <td>9</td>\n",
       "      <td>Mega Charizard Y</td>\n",
       "      <td>Fire</td>\n",
       "      <td>Flying</td>\n",
       "      <td>78</td>\n",
       "      <td>104</td>\n",
       "      <td>78</td>\n",
       "      <td>159</td>\n",
       "      <td>115</td>\n",
       "      <td>100</td>\n",
       "      <td>False</td>\n",
       "    </tr>\n",
       "    <tr>\n",
       "      <th>9</th>\n",
       "      <td>10</td>\n",
       "      <td>Squirtle</td>\n",
       "      <td>Water</td>\n",
       "      <td>NaN</td>\n",
       "      <td>44</td>\n",
       "      <td>48</td>\n",
       "      <td>65</td>\n",
       "      <td>50</td>\n",
       "      <td>64</td>\n",
       "      <td>43</td>\n",
       "      <td>False</td>\n",
       "    </tr>\n",
       "    <tr>\n",
       "      <th>10</th>\n",
       "      <td>11</td>\n",
       "      <td>Wartortle</td>\n",
       "      <td>Water</td>\n",
       "      <td>NaN</td>\n",
       "      <td>59</td>\n",
       "      <td>63</td>\n",
       "      <td>80</td>\n",
       "      <td>65</td>\n",
       "      <td>80</td>\n",
       "      <td>58</td>\n",
       "      <td>False</td>\n",
       "    </tr>\n",
       "    <tr>\n",
       "      <th>11</th>\n",
       "      <td>12</td>\n",
       "      <td>Blastoise</td>\n",
       "      <td>Water</td>\n",
       "      <td>NaN</td>\n",
       "      <td>79</td>\n",
       "      <td>83</td>\n",
       "      <td>100</td>\n",
       "      <td>85</td>\n",
       "      <td>105</td>\n",
       "      <td>78</td>\n",
       "      <td>False</td>\n",
       "    </tr>\n",
       "    <tr>\n",
       "      <th>12</th>\n",
       "      <td>13</td>\n",
       "      <td>Mega Blastoise</td>\n",
       "      <td>Water</td>\n",
       "      <td>NaN</td>\n",
       "      <td>79</td>\n",
       "      <td>103</td>\n",
       "      <td>120</td>\n",
       "      <td>135</td>\n",
       "      <td>115</td>\n",
       "      <td>78</td>\n",
       "      <td>False</td>\n",
       "    </tr>\n",
       "    <tr>\n",
       "      <th>13</th>\n",
       "      <td>14</td>\n",
       "      <td>Caterpie</td>\n",
       "      <td>Bug</td>\n",
       "      <td>NaN</td>\n",
       "      <td>45</td>\n",
       "      <td>30</td>\n",
       "      <td>35</td>\n",
       "      <td>20</td>\n",
       "      <td>20</td>\n",
       "      <td>45</td>\n",
       "      <td>False</td>\n",
       "    </tr>\n",
       "    <tr>\n",
       "      <th>14</th>\n",
       "      <td>15</td>\n",
       "      <td>Metapod</td>\n",
       "      <td>Bug</td>\n",
       "      <td>NaN</td>\n",
       "      <td>50</td>\n",
       "      <td>20</td>\n",
       "      <td>55</td>\n",
       "      <td>25</td>\n",
       "      <td>25</td>\n",
       "      <td>30</td>\n",
       "      <td>False</td>\n",
       "    </tr>\n",
       "    <tr>\n",
       "      <th>15</th>\n",
       "      <td>16</td>\n",
       "      <td>Butterfree</td>\n",
       "      <td>Bug</td>\n",
       "      <td>Flying</td>\n",
       "      <td>60</td>\n",
       "      <td>45</td>\n",
       "      <td>50</td>\n",
       "      <td>90</td>\n",
       "      <td>80</td>\n",
       "      <td>70</td>\n",
       "      <td>False</td>\n",
       "    </tr>\n",
       "    <tr>\n",
       "      <th>16</th>\n",
       "      <td>17</td>\n",
       "      <td>Weedle</td>\n",
       "      <td>Bug</td>\n",
       "      <td>Poison</td>\n",
       "      <td>40</td>\n",
       "      <td>35</td>\n",
       "      <td>30</td>\n",
       "      <td>20</td>\n",
       "      <td>20</td>\n",
       "      <td>50</td>\n",
       "      <td>False</td>\n",
       "    </tr>\n",
       "    <tr>\n",
       "      <th>17</th>\n",
       "      <td>18</td>\n",
       "      <td>Kakuna</td>\n",
       "      <td>Bug</td>\n",
       "      <td>Poison</td>\n",
       "      <td>45</td>\n",
       "      <td>25</td>\n",
       "      <td>50</td>\n",
       "      <td>25</td>\n",
       "      <td>25</td>\n",
       "      <td>35</td>\n",
       "      <td>False</td>\n",
       "    </tr>\n",
       "    <tr>\n",
       "      <th>18</th>\n",
       "      <td>19</td>\n",
       "      <td>Beedrill</td>\n",
       "      <td>Bug</td>\n",
       "      <td>Poison</td>\n",
       "      <td>65</td>\n",
       "      <td>90</td>\n",
       "      <td>40</td>\n",
       "      <td>45</td>\n",
       "      <td>80</td>\n",
       "      <td>75</td>\n",
       "      <td>False</td>\n",
       "    </tr>\n",
       "    <tr>\n",
       "      <th>19</th>\n",
       "      <td>20</td>\n",
       "      <td>Mega Beedrill</td>\n",
       "      <td>Bug</td>\n",
       "      <td>Poison</td>\n",
       "      <td>65</td>\n",
       "      <td>150</td>\n",
       "      <td>40</td>\n",
       "      <td>15</td>\n",
       "      <td>80</td>\n",
       "      <td>145</td>\n",
       "      <td>False</td>\n",
       "    </tr>\n",
       "    <tr>\n",
       "      <th>20</th>\n",
       "      <td>21</td>\n",
       "      <td>Pidgey</td>\n",
       "      <td>Normal</td>\n",
       "      <td>Flying</td>\n",
       "      <td>40</td>\n",
       "      <td>45</td>\n",
       "      <td>40</td>\n",
       "      <td>35</td>\n",
       "      <td>35</td>\n",
       "      <td>56</td>\n",
       "      <td>False</td>\n",
       "    </tr>\n",
       "    <tr>\n",
       "      <th>21</th>\n",
       "      <td>22</td>\n",
       "      <td>Pidgeotto</td>\n",
       "      <td>Normal</td>\n",
       "      <td>Flying</td>\n",
       "      <td>63</td>\n",
       "      <td>60</td>\n",
       "      <td>55</td>\n",
       "      <td>50</td>\n",
       "      <td>50</td>\n",
       "      <td>71</td>\n",
       "      <td>False</td>\n",
       "    </tr>\n",
       "    <tr>\n",
       "      <th>22</th>\n",
       "      <td>23</td>\n",
       "      <td>Pidgeot</td>\n",
       "      <td>Normal</td>\n",
       "      <td>Flying</td>\n",
       "      <td>83</td>\n",
       "      <td>80</td>\n",
       "      <td>75</td>\n",
       "      <td>70</td>\n",
       "      <td>70</td>\n",
       "      <td>101</td>\n",
       "      <td>False</td>\n",
       "    </tr>\n",
       "    <tr>\n",
       "      <th>23</th>\n",
       "      <td>24</td>\n",
       "      <td>Mega Pidgeot</td>\n",
       "      <td>Normal</td>\n",
       "      <td>Flying</td>\n",
       "      <td>83</td>\n",
       "      <td>80</td>\n",
       "      <td>80</td>\n",
       "      <td>135</td>\n",
       "      <td>80</td>\n",
       "      <td>121</td>\n",
       "      <td>False</td>\n",
       "    </tr>\n",
       "    <tr>\n",
       "      <th>24</th>\n",
       "      <td>25</td>\n",
       "      <td>Rattata</td>\n",
       "      <td>Normal</td>\n",
       "      <td>NaN</td>\n",
       "      <td>30</td>\n",
       "      <td>56</td>\n",
       "      <td>35</td>\n",
       "      <td>25</td>\n",
       "      <td>35</td>\n",
       "      <td>72</td>\n",
       "      <td>False</td>\n",
       "    </tr>\n",
       "    <tr>\n",
       "      <th>25</th>\n",
       "      <td>26</td>\n",
       "      <td>Raticate</td>\n",
       "      <td>Normal</td>\n",
       "      <td>NaN</td>\n",
       "      <td>55</td>\n",
       "      <td>81</td>\n",
       "      <td>60</td>\n",
       "      <td>50</td>\n",
       "      <td>70</td>\n",
       "      <td>97</td>\n",
       "      <td>False</td>\n",
       "    </tr>\n",
       "    <tr>\n",
       "      <th>26</th>\n",
       "      <td>27</td>\n",
       "      <td>Spearow</td>\n",
       "      <td>Normal</td>\n",
       "      <td>Flying</td>\n",
       "      <td>40</td>\n",
       "      <td>60</td>\n",
       "      <td>30</td>\n",
       "      <td>31</td>\n",
       "      <td>31</td>\n",
       "      <td>70</td>\n",
       "      <td>False</td>\n",
       "    </tr>\n",
       "    <tr>\n",
       "      <th>27</th>\n",
       "      <td>28</td>\n",
       "      <td>Fearow</td>\n",
       "      <td>Normal</td>\n",
       "      <td>Flying</td>\n",
       "      <td>65</td>\n",
       "      <td>90</td>\n",
       "      <td>65</td>\n",
       "      <td>61</td>\n",
       "      <td>61</td>\n",
       "      <td>100</td>\n",
       "      <td>False</td>\n",
       "    </tr>\n",
       "    <tr>\n",
       "      <th>28</th>\n",
       "      <td>29</td>\n",
       "      <td>Ekans</td>\n",
       "      <td>Poison</td>\n",
       "      <td>NaN</td>\n",
       "      <td>35</td>\n",
       "      <td>60</td>\n",
       "      <td>44</td>\n",
       "      <td>40</td>\n",
       "      <td>54</td>\n",
       "      <td>55</td>\n",
       "      <td>False</td>\n",
       "    </tr>\n",
       "    <tr>\n",
       "      <th>29</th>\n",
       "      <td>30</td>\n",
       "      <td>Arbok</td>\n",
       "      <td>Poison</td>\n",
       "      <td>NaN</td>\n",
       "      <td>60</td>\n",
       "      <td>85</td>\n",
       "      <td>69</td>\n",
       "      <td>65</td>\n",
       "      <td>79</td>\n",
       "      <td>80</td>\n",
       "      <td>False</td>\n",
       "    </tr>\n",
       "  </tbody>\n",
       "</table>\n",
       "</div>"
      ],
      "text/plain": [
       "    pid              Name Class 1 Class 2  HP  Attack  Defense  Sp. Atk  \\\n",
       "0     1         Bulbasaur   Grass  Poison  45      49       49       65   \n",
       "1     2           Ivysaur   Grass  Poison  60      62       63       80   \n",
       "2     3          Venusaur   Grass  Poison  80      82       83      100   \n",
       "3     4     Mega Venusaur   Grass  Poison  80     100      123      122   \n",
       "4     5        Charmander    Fire     NaN  39      52       43       60   \n",
       "5     6        Charmeleon    Fire     NaN  58      64       58       80   \n",
       "6     7         Charizard    Fire  Flying  78      84       78      109   \n",
       "7     8  Mega Charizard X    Fire  Dragon  78     130      111      130   \n",
       "8     9  Mega Charizard Y    Fire  Flying  78     104       78      159   \n",
       "9    10          Squirtle   Water     NaN  44      48       65       50   \n",
       "10   11         Wartortle   Water     NaN  59      63       80       65   \n",
       "11   12         Blastoise   Water     NaN  79      83      100       85   \n",
       "12   13    Mega Blastoise   Water     NaN  79     103      120      135   \n",
       "13   14          Caterpie     Bug     NaN  45      30       35       20   \n",
       "14   15           Metapod     Bug     NaN  50      20       55       25   \n",
       "15   16        Butterfree     Bug  Flying  60      45       50       90   \n",
       "16   17            Weedle     Bug  Poison  40      35       30       20   \n",
       "17   18            Kakuna     Bug  Poison  45      25       50       25   \n",
       "18   19          Beedrill     Bug  Poison  65      90       40       45   \n",
       "19   20     Mega Beedrill     Bug  Poison  65     150       40       15   \n",
       "20   21            Pidgey  Normal  Flying  40      45       40       35   \n",
       "21   22         Pidgeotto  Normal  Flying  63      60       55       50   \n",
       "22   23           Pidgeot  Normal  Flying  83      80       75       70   \n",
       "23   24      Mega Pidgeot  Normal  Flying  83      80       80      135   \n",
       "24   25           Rattata  Normal     NaN  30      56       35       25   \n",
       "25   26          Raticate  Normal     NaN  55      81       60       50   \n",
       "26   27           Spearow  Normal  Flying  40      60       30       31   \n",
       "27   28            Fearow  Normal  Flying  65      90       65       61   \n",
       "28   29             Ekans  Poison     NaN  35      60       44       40   \n",
       "29   30             Arbok  Poison     NaN  60      85       69       65   \n",
       "\n",
       "    Sp. Def  Speed  Legendary  \n",
       "0        65     45      False  \n",
       "1        80     60      False  \n",
       "2       100     80      False  \n",
       "3       120     80      False  \n",
       "4        50     65      False  \n",
       "5        65     80      False  \n",
       "6        85    100      False  \n",
       "7        85    100      False  \n",
       "8       115    100      False  \n",
       "9        64     43      False  \n",
       "10       80     58      False  \n",
       "11      105     78      False  \n",
       "12      115     78      False  \n",
       "13       20     45      False  \n",
       "14       25     30      False  \n",
       "15       80     70      False  \n",
       "16       20     50      False  \n",
       "17       25     35      False  \n",
       "18       80     75      False  \n",
       "19       80    145      False  \n",
       "20       35     56      False  \n",
       "21       50     71      False  \n",
       "22       70    101      False  \n",
       "23       80    121      False  \n",
       "24       35     72      False  \n",
       "25       70     97      False  \n",
       "26       31     70      False  \n",
       "27       61    100      False  \n",
       "28       54     55      False  \n",
       "29       79     80      False  "
      ]
     },
     "execution_count": 110,
     "metadata": {},
     "output_type": "execute_result"
    }
   ],
   "source": [
    "pokemon_path = 'https://raw.githubusercontent.com/a-milenkin/datasets_for_t-tests/main/pokemon.csv'\n",
    "pokemon = pd.read_csv(pokemon_path, error_bad_lines=False)  # Откроем датасет\n",
    "pokemon.head(30)\n",
    "\n",
    " \n",
    "#Обратите внимание, что у покемона может быть один или два класса. Если у покемона два класса, считается,\n",
    "#что они имеют одинаковую значимость."
   ]
  },
  {
   "cell_type": "markdown",
   "id": "fee8b6bc",
   "metadata": {},
   "source": [
    "Задание № 1 (Обязательно):\n",
    "Профессор Оук подозревает, что покемоны в классе grass имеют более сильную обычную атаку, чем у покемонов в классе rock. Проверьте, прав ли он, и убедите его в своем выводе статистически.\n",
    "\n",
    "Примечание: если есть покемоны, которые относятся к обоим классам, просто выбросьте их;\n",
    "\n",
    "Вы можете предположить, что распределение обычных атак является нормальным для всех классов покемонов."
   ]
  },
  {
   "cell_type": "code",
   "execution_count": 32,
   "id": "ac8b72c2",
   "metadata": {},
   "outputs": [
    {
     "data": {
      "text/html": [
       "<div>\n",
       "<style scoped>\n",
       "    .dataframe tbody tr th:only-of-type {\n",
       "        vertical-align: middle;\n",
       "    }\n",
       "\n",
       "    .dataframe tbody tr th {\n",
       "        vertical-align: top;\n",
       "    }\n",
       "\n",
       "    .dataframe thead th {\n",
       "        text-align: right;\n",
       "    }\n",
       "</style>\n",
       "<table border=\"1\" class=\"dataframe\">\n",
       "  <thead>\n",
       "    <tr style=\"text-align: right;\">\n",
       "      <th></th>\n",
       "      <th>pid</th>\n",
       "      <th>Name</th>\n",
       "      <th>Class 1</th>\n",
       "      <th>Class 2</th>\n",
       "      <th>HP</th>\n",
       "      <th>Attack</th>\n",
       "      <th>Defense</th>\n",
       "      <th>Sp. Atk</th>\n",
       "      <th>Sp. Def</th>\n",
       "      <th>Speed</th>\n",
       "      <th>Legendary</th>\n",
       "    </tr>\n",
       "  </thead>\n",
       "  <tbody>\n",
       "    <tr>\n",
       "      <th>377</th>\n",
       "      <td>378</td>\n",
       "      <td>Lileep</td>\n",
       "      <td>Rock</td>\n",
       "      <td>Grass</td>\n",
       "      <td>66</td>\n",
       "      <td>41</td>\n",
       "      <td>77</td>\n",
       "      <td>61</td>\n",
       "      <td>87</td>\n",
       "      <td>23</td>\n",
       "      <td>False</td>\n",
       "    </tr>\n",
       "    <tr>\n",
       "      <th>378</th>\n",
       "      <td>379</td>\n",
       "      <td>Cradily</td>\n",
       "      <td>Rock</td>\n",
       "      <td>Grass</td>\n",
       "      <td>86</td>\n",
       "      <td>81</td>\n",
       "      <td>97</td>\n",
       "      <td>81</td>\n",
       "      <td>107</td>\n",
       "      <td>43</td>\n",
       "      <td>False</td>\n",
       "    </tr>\n",
       "  </tbody>\n",
       "</table>\n",
       "</div>"
      ],
      "text/plain": [
       "     pid     Name Class 1 Class 2  HP  Attack  Defense  Sp. Atk  Sp. Def  \\\n",
       "377  378   Lileep    Rock   Grass  66      41       77       61       87   \n",
       "378  379  Cradily    Rock   Grass  86      81       97       81      107   \n",
       "\n",
       "     Speed  Legendary  \n",
       "377     23      False  \n",
       "378     43      False  "
      ]
     },
     "execution_count": 32,
     "metadata": {},
     "output_type": "execute_result"
    }
   ],
   "source": [
    "pokemon[((pokemon['Class 2'] == 'Grass') & (pokemon['Class 1'] == 'Rock')) | ((pokemon['Class 2'] == 'Rock') \n",
    "                                                                              & (pokemon['Class 1'] == 'Grass'))].head()\n"
   ]
  },
  {
   "cell_type": "code",
   "execution_count": 71,
   "id": "ad0c6808",
   "metadata": {},
   "outputs": [],
   "source": [
    "pokemon_ = pokemon[(pokemon.pid != 378) & (pokemon.pid != 379)] # отбрасываем тех, у кого оба класса"
   ]
  },
  {
   "cell_type": "code",
   "execution_count": 72,
   "id": "7395df5c",
   "metadata": {},
   "outputs": [
    {
     "data": {
      "text/plain": [
       "(-3.729457582692065, 0.00027333381459902653)"
      ]
     },
     "execution_count": 72,
     "metadata": {},
     "output_type": "execute_result"
    }
   ],
   "source": [
    "pokemon_grass = pokemon_[((pokemon_['Class 2'] == 'Grass')| (pokemon_['Class 1'] == 'Grass'))][['Attack']]\n",
    "pokemon_rock = pokemon_[((pokemon_['Class 2'] == 'Rock')| (pokemon_['Class 1'] == 'Rock'))][['Attack']]\n",
    "\n",
    "t, p_value = stats.ttest_ind(pokemon_grass['Attack'], pokemon_rock['Attack']) #Критерий Стьюдента (t-test)\n",
    "t, p_value"
   ]
  },
  {
   "cell_type": "markdown",
   "id": "7db5e37d",
   "metadata": {},
   "source": [
    "вывод: p = 0.0002, следовательно покемоны Grass имеют более сильную обычную атаку, чем у покемонов в классе rock"
   ]
  },
  {
   "cell_type": "code",
   "execution_count": 73,
   "id": "319e9c8c",
   "metadata": {},
   "outputs": [
    {
     "data": {
      "text/plain": [
       "Text(0.5, 1.0, 'Распределение силы атаки покемонов Grass и Rock')"
      ]
     },
     "execution_count": 73,
     "metadata": {},
     "output_type": "execute_result"
    },
    {
     "data": {
      "image/png": "[encoded data removed]",
      "text/plain": [
       "<Figure size 432x288 with 1 Axes>"
      ]
     },
     "metadata": {
      "needs_background": "light"
     },
     "output_type": "display_data"
    }
   ],
   "source": [
    "sns.histplot(pokemon_grass, palette='hls')\n",
    "sns.histplot(pokemon_rock, palette='gist_yarg')\n",
    "plt.title('Распределение силы атаки покемонов Grass и Rock')"
   ]
  },
  {
   "cell_type": "code",
   "execution_count": null,
   "id": "b2038a09",
   "metadata": {},
   "outputs": [],
   "source": [
    "Задание № 2 (Обязательно):\n",
    "Профессор Оук уже долго не может спать по ночам ведь его волнует вопрос, а правда, что покемоны что покемоны в классе Water\n",
    "в среднем более быстрые, чем покемоны в классе Normal.\n",
    "\n",
    "Проверьте, прав ли он, и убедите его в своем выводе статистически.\n",
    "\n",
    "Примечание: если есть покемоны относятся к обоим классам, выбросьте их;\n",
    "\n",
    "Вы можете предположить, что распределение скорости движения является нормальным для всех классов покемонов."
   ]
  },
  {
   "cell_type": "code",
   "execution_count": 70,
   "id": "91ddaa77",
   "metadata": {},
   "outputs": [
    {
     "data": {
      "text/html": [
       "<div>\n",
       "<style scoped>\n",
       "    .dataframe tbody tr th:only-of-type {\n",
       "        vertical-align: middle;\n",
       "    }\n",
       "\n",
       "    .dataframe tbody tr th {\n",
       "        vertical-align: top;\n",
       "    }\n",
       "\n",
       "    .dataframe thead th {\n",
       "        text-align: right;\n",
       "    }\n",
       "</style>\n",
       "<table border=\"1\" class=\"dataframe\">\n",
       "  <thead>\n",
       "    <tr style=\"text-align: right;\">\n",
       "      <th></th>\n",
       "      <th>pid</th>\n",
       "      <th>Name</th>\n",
       "      <th>Class 1</th>\n",
       "      <th>Class 2</th>\n",
       "      <th>HP</th>\n",
       "      <th>Attack</th>\n",
       "      <th>Defense</th>\n",
       "      <th>Sp. Atk</th>\n",
       "      <th>Sp. Def</th>\n",
       "      <th>Speed</th>\n",
       "      <th>Legendary</th>\n",
       "    </tr>\n",
       "  </thead>\n",
       "  <tbody>\n",
       "    <tr>\n",
       "      <th>445</th>\n",
       "      <td>446</td>\n",
       "      <td>Bibarel</td>\n",
       "      <td>Normal</td>\n",
       "      <td>Water</td>\n",
       "      <td>79</td>\n",
       "      <td>85</td>\n",
       "      <td>60</td>\n",
       "      <td>55</td>\n",
       "      <td>60</td>\n",
       "      <td>71</td>\n",
       "      <td>False</td>\n",
       "    </tr>\n",
       "  </tbody>\n",
       "</table>\n",
       "</div>"
      ],
      "text/plain": [
       "     pid     Name Class 1 Class 2  HP  Attack  Defense  Sp. Atk  Sp. Def  \\\n",
       "445  446  Bibarel  Normal   Water  79      85       60       55       60   \n",
       "\n",
       "     Speed  Legendary  \n",
       "445     71      False  "
      ]
     },
     "execution_count": 70,
     "metadata": {},
     "output_type": "execute_result"
    }
   ],
   "source": [
    "pokemon[((pokemon['Class 2'] == 'Water') & (pokemon['Class 1'] == 'Normal')) | ((pokemon['Class 2'] == 'Normal') \n",
    "                                                                                & (pokemon['Class 1'] == 'Water'))].head()\n"
   ]
  },
  {
   "cell_type": "code",
   "execution_count": 75,
   "id": "b2f303d1",
   "metadata": {},
   "outputs": [],
   "source": [
    "pokemon_= pokemon[pokemon.pid != 446] # отбрасываем тех, у кого оба класса"
   ]
  },
  {
   "cell_type": "code",
   "execution_count": 83,
   "id": "7dfd3c28",
   "metadata": {},
   "outputs": [
    {
     "data": {
      "text/plain": [
       "(-2.150913330007121, 0.03255353551391033)"
      ]
     },
     "execution_count": 83,
     "metadata": {},
     "output_type": "execute_result"
    }
   ],
   "source": [
    "pokemon_water = pokemon_[((pokemon_['Class 2'] == 'Water') | (pokemon_['Class 1'] == 'Water'))][['Speed']]\n",
    "pokemon_normal = pokemon_[((pokemon_['Class 2'] == 'Normal') | (pokemon_['Class 1'] == 'Normal'))][['Speed']]\n",
    "\n",
    "t, p_value = stats.ttest_ind(pokemon_water['Speed'], pokemon_normal['Speed']) #Критерий Стьюдента (t-test)\n",
    "t, p_value\n",
    "#pokemon_water.describe(), pokemon_normal.describe()"
   ]
  },
  {
   "cell_type": "markdown",
   "id": "ec21b921",
   "metadata": {},
   "source": [
    "p =  0.03 < 0.05, следовательно подтверждаем гипотезу, что покемоны в классе Water в среднем более быстрые, чем покемоны в классе Normal "
   ]
  },
  {
   "cell_type": "code",
   "execution_count": 78,
   "id": "b55a44bf",
   "metadata": {},
   "outputs": [
    {
     "data": {
      "text/plain": [
       "Text(0.5, 1.0, 'Распределение скорости покемонов Water и Normal')"
      ]
     },
     "execution_count": 78,
     "metadata": {},
     "output_type": "execute_result"
    },
    {
     "data": {
      "image/png": "[encoded data removed]",
      "text/plain": [
       "<Figure size 432x288 with 1 Axes>"
      ]
     },
     "metadata": {
      "needs_background": "light"
     },
     "output_type": "display_data"
    }
   ],
   "source": [
    "sns.histplot(pokemon_water, palette='hls')\n",
    "sns.histplot(pokemon_normal, palette='winter')\n",
    "plt.title('Распределение скорости покемонов Water и Normal')"
   ]
  },
  {
   "cell_type": "markdown",
   "id": "f3ab4377",
   "metadata": {},
   "source": [
    "Задание № 3:\n",
    "Профессор Оук тот еще безумец. Он изобрел сыворотку, способную ускорить покемона. Однако, мы усомнились в эффективности его вакцины. Професоор дал эту сыворотку следующим покемонам: смотри массив treathed_pokemon. Проверьте, работает ли вообще его сыворотка, убедите всех в своем выводе статистически.\n",
    "\n",
    "Вы можете предположить, что распределение скорости движения является нормальным для всех классов покемонов."
   ]
  },
  {
   "cell_type": "markdown",
   "id": "6ca86507",
   "metadata": {},
   "source": [
    "<div class=\"alert alert-info\">\n",
    "<b>Задание № 5:</b>\n",
    "    \n",
    "Профессор Оук всегда любил истории про легендарных покемонов. Однако, профессор не очень уверен, что они самые лучшие относительно остальных покемонов. Оук предложил разобраться в этом нам. Проверьте, действительно ли сумма характеристик `HP`,`Attack`,`Defense` у легендарных покемонов выше, чем у других покемонов? А произведение этих же параметров?? Найдите ответы на эти вопросы и убедите всех в своем выводе статистически.\n",
    "   \n",
    "\n",
    "Вы можете предположить, что распределение сум и произведений этих параметров является нормальным для всех классов покемонов.\n",
    "\n",
    "</div>\n"
   ]
  },
  {
   "cell_type": "code",
   "execution_count": 99,
   "id": "670ac42c",
   "metadata": {},
   "outputs": [
    {
     "name": "stdout",
     "output_type": "stream",
     "text": [
      "11.591852366462316 7.970942205722087e-29\n",
      "134.37104128585798 7.970942205720804e-29\n",
      "13.263253408231844 1.992664308842282e-36\n",
      "175.9138909709736 1.9926643088419018e-36\n"
     ]
    },
    {
     "name": "stderr",
     "output_type": "stream",
     "text": [
      "<ipython-input-99-85ddddd597bc>:2: SettingWithCopyWarning: \n",
      "A value is trying to be set on a copy of a slice from a DataFrame.\n",
      "Try using .loc[row_indexer,col_indexer] = value instead\n",
      "\n",
      "See the caveats in the documentation: https://pandas.pydata.org/pandas-docs/stable/user_guide/indexing.html#returning-a-view-versus-a-copy\n",
      "  pokemon_legend['sum'] = pokemon_legend['HP'] + pokemon_legend['Attack'] + pokemon_legend['Defense']\n",
      "<ipython-input-99-85ddddd597bc>:3: SettingWithCopyWarning: \n",
      "A value is trying to be set on a copy of a slice from a DataFrame.\n",
      "Try using .loc[row_indexer,col_indexer] = value instead\n",
      "\n",
      "See the caveats in the documentation: https://pandas.pydata.org/pandas-docs/stable/user_guide/indexing.html#returning-a-view-versus-a-copy\n",
      "  pokemon_legend['comp'] = pokemon_legend['HP'] * pokemon_legend['Attack'] * pokemon_legend['Defense']\n",
      "<ipython-input-99-85ddddd597bc>:6: SettingWithCopyWarning: \n",
      "A value is trying to be set on a copy of a slice from a DataFrame.\n",
      "Try using .loc[row_indexer,col_indexer] = value instead\n",
      "\n",
      "See the caveats in the documentation: https://pandas.pydata.org/pandas-docs/stable/user_guide/indexing.html#returning-a-view-versus-a-copy\n",
      "  pokemon_other['sum'] = pokemon_other['HP'] + pokemon_other['Attack'] + pokemon_other['Defense']\n",
      "<ipython-input-99-85ddddd597bc>:7: SettingWithCopyWarning: \n",
      "A value is trying to be set on a copy of a slice from a DataFrame.\n",
      "Try using .loc[row_indexer,col_indexer] = value instead\n",
      "\n",
      "See the caveats in the documentation: https://pandas.pydata.org/pandas-docs/stable/user_guide/indexing.html#returning-a-view-versus-a-copy\n",
      "  pokemon_other['comp'] = pokemon_other['HP'] * pokemon_other['Attack'] * pokemon_other['Defense']\n"
     ]
    }
   ],
   "source": [
    "pokemon_legend = pokemon[pokemon['Legendary']]\n",
    "pokemon_legend['sum'] = pokemon_legend['HP'] + pokemon_legend['Attack'] + pokemon_legend['Defense']\n",
    "pokemon_legend['comp'] = pokemon_legend['HP'] * pokemon_legend['Attack'] * pokemon_legend['Defense']\n",
    "\n",
    "pokemon_other = pokemon[pokemon['Legendary'] == False]\n",
    "pokemon_other['sum'] = pokemon_other['HP'] + pokemon_other['Attack'] + pokemon_other['Defense']\n",
    "pokemon_other['comp'] = pokemon_other['HP'] * pokemon_other['Attack'] * pokemon_other['Defense']\n",
    "\n",
    "\n",
    "t, p_value = stats.ttest_ind(pokemon_legend['sum'], pokemon_other['sum']) #Критерий Стьюдента (t-test)\n",
    "print(t, p_value)\n",
    "F, p = f_oneway(pokemon_legend['sum'], pokemon_other['sum'])  # дисперсионный анализ (ДА) в python\n",
    "print(F, p) \n",
    "\n",
    "t, p_value = stats.ttest_ind(pokemon_legend['comp'], pokemon_other['comp']) #Критерий Стьюдента (t-test)\n",
    "print(t, p_value)\n",
    "F, p = f_oneway(pokemon_legend['comp'], pokemon_other['comp'])  # дисперсионный анализ (ДА) в python\n",
    "print(F, p) \n"
   ]
  },
  {
   "cell_type": "code",
   "execution_count": 100,
   "id": "14deb5a5",
   "metadata": {},
   "outputs": [
    {
     "data": {
      "text/plain": [
       "Text(0.5, 1.0, 'Распределение скорости покемонов Water и Normal')"
      ]
     },
     "execution_count": 100,
     "metadata": {},
     "output_type": "execute_result"
    },
    {
     "data": {
      "image/png": "[encoded data removed]",
      "text/plain": [
       "<Figure size 432x288 with 1 Axes>"
      ]
     },
     "metadata": {
      "needs_background": "light"
     },
     "output_type": "display_data"
    }
   ],
   "source": [
    "sns.histplot(pokemon_legend['sum'], palette='gist_yarg')\n",
    "sns.histplot(pokemon_other['sum'], palette='winter')\n",
    "plt.title('Распределение суммы показателей легендарных и обычых покемонов')"
   ]
  },
  {
   "cell_type": "code",
   "execution_count": 101,
   "id": "98adb258",
   "metadata": {},
   "outputs": [
    {
     "data": {
      "text/plain": [
       "Text(0.5, 1.0, 'Распределение произведения показателей легендарных и обычых покемонов')"
      ]
     },
     "execution_count": 101,
     "metadata": {},
     "output_type": "execute_result"
    },
    {
     "data": {
      "image/png": "[encoded data removed]",
      "text/plain": [
       "<Figure size 432x288 with 1 Axes>"
      ]
     },
     "metadata": {
      "needs_background": "light"
     },
     "output_type": "display_data"
    }
   ],
   "source": [
    "sns.histplot(pokemon_legend['comp'], palette='gist_yarg')\n",
    "sns.histplot(pokemon_other['comp'], palette='winter')\n",
    "plt.title('Распределение произведения показателей легендарных и обычых покемонов')"
   ]
  },
  {
   "cell_type": "markdown",
   "id": "232a5d5e",
   "metadata": {},
   "source": [
    "вывод: исходя из тестов (стьюдента и ДА, которые дали похожие результаты), легендарные покемоны действительно лучше остальных"
   ]
  },
  {
   "cell_type": "markdown",
   "id": "b90ab72b",
   "metadata": {},
   "source": [
    "Задание № 6:\n",
    "Профессор Оук частенько наблюдает за боями покемонов. После очередных таких боев Оук выделил три класса best_defence_class, которые на его взгляд одинаковы по \"силе обычной защиты\" Defense. Проверьте, действительно ли эти классы покемонов не отличаются по уровню защиты статистически значимо? Все та же статистика вам в помощь!\n",
    "\n",
    "Вы можете предположить, что распределение сум и произведений этих параметров является нормальным для всех классов покемонов."
   ]
  },
  {
   "cell_type": "code",
   "execution_count": 103,
   "id": "ad8f91d4",
   "metadata": {},
   "outputs": [],
   "source": [
    "best_defence_class = ['Rock', 'Ground','Steel']"
   ]
  },
  {
   "cell_type": "code",
   "execution_count": 112,
   "id": "cf202111",
   "metadata": {},
   "outputs": [
    {
     "name": "stdout",
     "output_type": "stream",
     "text": [
      "8.682104564943515 0.000256333515308276\n"
     ]
    }
   ],
   "source": [
    "F, p = f_oneway(pokemon[(pokemon['Class 1'] == 'Rock') | (pokemon['Class 2'] == 'Rock')]['Defense'],\n",
    "                pokemon[(pokemon['Class 1'] == 'Ground') | (pokemon['Class 2'] == 'Ground')]['Defense'],\n",
    "               pokemon[(pokemon['Class 1'] == 'Steel') | (pokemon['Class 2'] == 'Steel')]['Defense'])  \n",
    "# дисперсионный анализ (ДА) в python\n",
    "print(F, p)"
   ]
  },
  {
   "cell_type": "markdown",
   "id": "698c73fd",
   "metadata": {},
   "source": [
    "p = 0.0002 < 0.05, следовательно покемоны этих 3х классов отличаются статистически значимо"
   ]
  }
 ],
 "metadata": {
  "kernelspec": {
   "display_name": "Python 3",
   "language": "python",
   "name": "python3"
  },
  "language_info": {
   "codemirror_mode": {
    "name": "ipython",
    "version": 3
   },
   "file_extension": ".py",
   "mimetype": "text/x-python",
   "name": "python",
   "nbconvert_exporter": "python",
   "pygments_lexer": "ipython3",
   "version": "3.8.8"
  }
 },
 "nbformat": 4,
 "nbformat_minor": 5
}
