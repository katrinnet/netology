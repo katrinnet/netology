{
 "cells": [
  {
   "cell_type": "markdown",
   "id": "d95d5fad",
   "metadata": {},
   "source": [
    "Задание 1"
   ]
  },
  {
   "cell_type": "code",
   "execution_count": 5,
   "id": "522cdb77",
   "metadata": {},
   "outputs": [
    {
     "name": "stdout",
     "output_type": "stream",
     "text": [
      "Фраза 1 длиннее фразы 2\n"
     ]
    }
   ],
   "source": [
    "phrase_1 = 'Насколько проще было бы писать программы, если бы не заказчики'\n",
    "phrase_2 = '640Кб должно хватить для любых задач. Билл Гейтс (по легенде)'\n",
    "\n",
    "if len(phrase_1) > len(phrase_2):\n",
    "    print('Фраза 1 длиннее фразы 2')\n",
    "elif len(phrase_1) < len(phrase_2):\n",
    "    print('Фраза 2 длиннее фразы 1')\n",
    "else:\n",
    "    print('Фразы равной длины')"
   ]
  },
  {
   "cell_type": "markdown",
   "id": "33f83828",
   "metadata": {},
   "source": [
    "Задание 2"
   ]
  },
  {
   "cell_type": "code",
   "execution_count": 8,
   "id": "35b29467",
   "metadata": {},
   "outputs": [
    {
     "name": "stdout",
     "output_type": "stream",
     "text": [
      "Високосный год\n"
     ]
    }
   ],
   "source": [
    "year = 2004\n",
    "\n",
    "if year % 4 == 0 and year % 100 != 0:\n",
    "    print('Високосный год')\n",
    "else:\n",
    "    print('Обычный год')"
   ]
  },
  {
   "cell_type": "markdown",
   "id": "7ab514ad",
   "metadata": {},
   "source": [
    "Задание 3"
   ]
  },
  {
   "cell_type": "code",
   "execution_count": 16,
   "id": "f22491ba",
   "metadata": {},
   "outputs": [
    {
     "name": "stdout",
     "output_type": "stream",
     "text": [
      "Введите день:25\n",
      "Введите месяц:Ноябрь\n",
      "Ваш знак зодиака: Стрелец\n"
     ]
    }
   ],
   "source": [
    "date = int(input('Введите день:'))\n",
    "month = input('Введите месяц:')\n",
    "\n",
    "\n",
    "if month == 'Январь':\n",
    "    if date <= 20:\n",
    "        print('Ваш знак зодиака: Козерог')\n",
    "    else:\n",
    "        print('Ваш знак зодиака: Водолей')\n",
    "elif month == 'Февраль':\n",
    "    if date <= 18:\n",
    "        print('Ваш знак зодиака: Водолей')\n",
    "    else:\n",
    "        print('Ваш знак зодиака: Рыбы')\n",
    "elif month == 'Март':\n",
    "    if date <= 20:\n",
    "        print('Ваш знак зодиака: Рыбы')\n",
    "    else:\n",
    "        print('Ваш знак зодиака: Овен')\n",
    "elif month == 'Апрель':\n",
    "    if date <= 19:\n",
    "        print('Ваш знак зодиака: Овен')\n",
    "    else:\n",
    "        print('Ваш знак зодиака: Телец')\n",
    "elif month == 'Май':\n",
    "    if date <= 20:\n",
    "        print('Ваш знак зодиака: Телец')\n",
    "    else:\n",
    "        print('Ваш знак зодиака: Близнецы')\n",
    "elif month == 'Июнь':\n",
    "    if date <= 21:\n",
    "        print('Ваш знак зодиака: Близнецы')\n",
    "    else:\n",
    "        print('Ваш знак зодиака: Рак') \n",
    "elif month == 'Июль':\n",
    "    if date <= 22:\n",
    "        print('Ваш знак зодиака: Рак')\n",
    "    else:\n",
    "        print('Ваш знак зодиака: Лев')\n",
    "elif month == 'Август':\n",
    "    if date <= 22:\n",
    "        print('Ваш знак зодиака: Лев')\n",
    "    else:\n",
    "        print('Ваш знак зодиака: Дева')\n",
    "elif month == 'Сентябрь':\n",
    "    if date <= 22:\n",
    "        print('Ваш знак зодиака: Дева')\n",
    "    else:\n",
    "        print('Ваш знак зодиака: Весы')\n",
    "elif month == 'Октябрь':\n",
    "    if date <= 23:\n",
    "        print('Ваш знак зодиака: Весы')\n",
    "    else:\n",
    "        print('Ваш знак зодиака: Скорпион') \n",
    "elif month == 'Ноябрь':\n",
    "    if date <= 22:\n",
    "        print('Ваш знак зодиака: Скорпион')\n",
    "    else:\n",
    "        print('Ваш знак зодиака: Стрелец')\n",
    "elif month == 'Декабрь':\n",
    "    if date <= 21:\n",
    "        print('Ваш знак зодиака: Стрелец')\n",
    "    else:\n",
    "        print('Ваш знак зодиака: Козерог')        "
   ]
  },
  {
   "cell_type": "markdown",
   "id": "da954168",
   "metadata": {},
   "source": [
    "Задание 4"
   ]
  },
  {
   "cell_type": "code",
   "execution_count": 21,
   "id": "ff2b6ab0",
   "metadata": {},
   "outputs": [
    {
     "name": "stdout",
     "output_type": "stream",
     "text": [
      "Коробка №2\n"
     ]
    }
   ],
   "source": [
    "width = 15\n",
    "length = 15\n",
    "height = 25\n",
    "\n",
    "if width < 15 and length < 15 and height < 15:\n",
    "    print('Коробка №1')\n",
    "elif (width > 15 and width < 50)or(length > 15 and length < 50)or(height > 15 and height < 50):\n",
    "    print('Коробка №2')\n",
    "elif length > 200:\n",
    "    print('Упаковка для лыж')\n",
    "else:\n",
    "    print('Стандартная коробка №3')"
   ]
  },
  {
   "cell_type": "markdown",
   "id": "c7f74b1a",
   "metadata": {},
   "source": [
    "Задание 5"
   ]
  },
  {
   "cell_type": "code",
   "execution_count": 27,
   "id": "fa273c83",
   "metadata": {},
   "outputs": [
    {
     "name": "stdout",
     "output_type": "stream",
     "text": [
      "Счастливый билет\n"
     ]
    }
   ],
   "source": [
    "number = 456654\n",
    "\n",
    "sum_1to3 = int(str(number)[0]) + int(str(number)[1]) + int(str(number)[2])\n",
    "sum_4to6 = int(str(number)[3]) + int(str(number)[4]) + int(str(number)[5])\n",
    "\n",
    "if sum_1to3 == sum_4to6:\n",
    "    print('Счастливый билет')\n",
    "else:\n",
    "    print('Неасчастливый билет')"
   ]
  },
  {
   "cell_type": "markdown",
   "id": "cf2b7460",
   "metadata": {},
   "source": [
    "Задание 6"
   ]
  },
  {
   "cell_type": "code",
   "execution_count": 36,
   "id": "9217f6bc",
   "metadata": {},
   "outputs": [
    {
     "name": "stdout",
     "output_type": "stream",
     "text": [
      "Введите тип фигуры:Треугольник\n",
      "Введите длину стороны A:100\n",
      "Введите длину стороны B:200\n",
      "Введите длину стороны C:224\n",
      "Площадь треугольника 9999.90\n"
     ]
    }
   ],
   "source": [
    "import math\n",
    "\n",
    "figure_type = input('Введите тип фигуры:')\n",
    "\n",
    "if figure_type == 'Круг':\n",
    "    radius = int(input('Введите радиус круга:'))\n",
    "    print('Площадь круга {:.2f}'.format(math.pi * (radius**2)))\n",
    "elif figure_type == 'Треугольник':\n",
    "    a = int(input('Введите длину стороны A:'))\n",
    "    b = int(input('Введите длину стороны B:'))\n",
    "    c = int(input('Введите длину стороны C:'))\n",
    "    p = (a + b + c)/2\n",
    "    print('Площадь треугольника {:.2f}'.format(math.sqrt(p * (p - a) * (p - b) * (p - c))))\n",
    "elif figure_type == 'Прямоугольник':\n",
    "    a = int(input('Введите длину стороны A:'))\n",
    "    b = int(input('Введите длину стороны B:'))\n",
    "    print('Площадь прямоугольника {:.2f}'.format(a * b,))"
   ]
  }
 ],
 "metadata": {
  "kernelspec": {
   "display_name": "Python 3",
   "language": "python",
   "name": "python3"
  },
  "language_info": {
   "codemirror_mode": {
    "name": "ipython",
    "version": 3
   },
   "file_extension": ".py",
   "mimetype": "text/x-python",
   "name": "python",
   "nbconvert_exporter": "python",
   "pygments_lexer": "ipython3",
   "version": "3.8.8"
  }
 },
 "nbformat": 4,
 "nbformat_minor": 5
}
