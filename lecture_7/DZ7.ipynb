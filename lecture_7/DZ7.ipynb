{
 "cells": [
  {
   "cell_type": "markdown",
   "id": "d99a0819",
   "metadata": {},
   "source": [
    "# Задание 1"
   ]
  },
  {
   "cell_type": "code",
   "execution_count": 55,
   "id": "21e28180",
   "metadata": {},
   "outputs": [
    {
     "data": {
      "text/plain": [
       "'СДР (специальные права заимствования)'"
      ]
     },
     "execution_count": 55,
     "metadata": {},
     "output_type": "execute_result"
    }
   ],
   "source": [
    "import requests\n",
    "\n",
    "def exchange_max():\n",
    "    max_value = 0\n",
    "    currency_dict = requests.get('https://www.cbr-xml-daily.ru/daily_json.js').json()\n",
    "    #print(currency_dict['Valute']['AUD']['Value'])\n",
    "    for currency in currency_dict['Valute'].items():\n",
    "       # print(currency)\n",
    "        if currency[1]['Value'] > max_value:\n",
    "            name_max_value = currency[1]['Name']\n",
    "            max_value = currency[1]['Value']\n",
    "\n",
    "    return name_max_value\n",
    "    \n",
    "exchange_max()"
   ]
  },
  {
   "cell_type": "markdown",
   "id": "f0bf13cc",
   "metadata": {},
   "source": [
    "# Задание 2"
   ]
  },
  {
   "cell_type": "code",
   "execution_count": 144,
   "id": "d6d46f01",
   "metadata": {},
   "outputs": [],
   "source": [
    "#from exchange import Rate\n",
    "\n",
    "# не понятно, как добавлять параметр в класс импортировав его, поэтому скопировала себе исходник\n",
    "import requests\n",
    "\n",
    "class Rate:\n",
    "    def __init__(self, format_ = 'value', diff = True):\n",
    "        self.format = format_\n",
    "        self.diff = diff\n",
    "    \n",
    "    def exchange_rates(self):\n",
    "        \"\"\"\n",
    "        Возвращает ответ сервиса с информацией о валютах в виде:\n",
    "        \n",
    "        {\n",
    "            'AMD': {\n",
    "                'CharCode': 'AMD',\n",
    "                'ID': 'R01060',\n",
    "                'Name': 'Армянских драмов',\n",
    "                'Nominal': 100,\n",
    "                'NumCode': '051',\n",
    "                'Previous': 14.103,\n",
    "                'Value': 14.0879\n",
    "                },\n",
    "            ...\n",
    "        }\n",
    "        \"\"\"\n",
    "        self.r = requests.get('https://www.cbr-xml-daily.ru/daily_json.js')\n",
    "        return self.r.json()['Valute']\n",
    "    \n",
    "    def make_format(self, currency):\n",
    "        \"\"\"\n",
    "        Возвращает информацию о валюте currency в двух вариантах:\n",
    "        - полная информация о валюте при self.format = 'full':\n",
    "        Rate('full').make_format('EUR')\n",
    "        {\n",
    "            'CharCode': 'EUR',\n",
    "            'ID': 'R01239',\n",
    "            'Name': 'Евро',\n",
    "            'Nominal': 1,\n",
    "            'NumCode': '978',\n",
    "            'Previous': 79.6765,\n",
    "            'Value': 79.4966\n",
    "        }\n",
    "        \n",
    "        Rate('value').make_format('EUR')\n",
    "        79.4966\n",
    "        \"\"\"\n",
    "        response = self.exchange_rates()\n",
    "        \n",
    "        if currency in response:\n",
    "            if self.format == 'full':\n",
    "                return response[currency]\n",
    "            \n",
    "            if self.format == 'value' and self.diff:\n",
    "                return response[currency]['Value'] - response[currency]['Previous']\n",
    "            \n",
    "            if self.format == 'value' and self.diff == False:\n",
    "                return response[currency]['Value']\n",
    "        \n",
    "        return 'Error'\n",
    "    \n",
    "    def eur(self, diff = True):\n",
    "        \"\"\"Возвращает изменение курса евро по умолчанию, если diff = False, то курс евро на сегодня в формате self.format\"\"\"             \n",
    "        self.diff = diff\n",
    "        return self.make_format('EUR')\n",
    "    \n",
    "    def usd(self, diff = True):\n",
    "        \"\"\"Возвращает изменение курса доллара по умолчанию, если diff = False, то курс доллара на сегодня в формате self.format\"\"\"\n",
    "        self.diff = diff\n",
    "        return self.make_format('USD')\n",
    "    \n",
    "    def brl(self, diff = True):\n",
    "        \"\"\"Возвращает изменение курса бразильского реала по умолчанию, если diff = False, то курс бразильского реала на сегодня в формате self.format\"\"\"\n",
    "        self.diff = diff\n",
    "        return self.make_format('BRL')\n",
    "    "
   ]
  },
  {
   "cell_type": "code",
   "execution_count": 150,
   "id": "19390d70",
   "metadata": {},
   "outputs": [
    {
     "name": "stdout",
     "output_type": "stream",
     "text": [
      "-0.3539999999999992\n",
      "72.6671 -0.4989999999999952\n",
      "{'ID': 'R01239', 'NumCode': '978', 'CharCode': 'EUR', 'Nominal': 1, 'Name': 'Евро', 'Value': 86.7137, 'Previous': 87.0677}\n",
      "{'ID': 'R01115', 'NumCode': '986', 'CharCode': 'BRL', 'Nominal': 1, 'Name': 'Бразильский реал', 'Value': 14.6539, 'Previous': 14.5909}\n"
     ]
    }
   ],
   "source": [
    "r = Rate()\n",
    "\n",
    "print(r.eur())\n",
    "a = r.usd(False)\n",
    "b = r.make_format('USD')\n",
    "\n",
    "print(a,b)\n",
    "\n",
    "z = Rate('full', False)\n",
    "\n",
    "print(z.make_format('EUR'))\n",
    "print(z.brl())"
   ]
  },
  {
   "cell_type": "markdown",
   "id": "daef6693",
   "metadata": {},
   "source": [
    "# Задание 3"
   ]
  },
  {
   "cell_type": "code",
   "execution_count": 76,
   "id": "f77048e4",
   "metadata": {},
   "outputs": [],
   "source": [
    "class Employee:\n",
    "    def __init__(self, name, seniority):\n",
    "        self.name = name\n",
    "        self.seniority = seniority\n",
    "        \n",
    "        self.grade = 1\n",
    "    \n",
    "    def grade_up(self):\n",
    "        \"\"\"Повышает уровень сотрудника\"\"\"\n",
    "        self.grade += 1\n",
    "    \n",
    "    def publish_grade(self):\n",
    "        \"\"\"Публикация результатов аккредитации сотрудников\"\"\"\n",
    "        print(self.name, self.grade)\n",
    "    \n",
    "    def check_if_it_is_time_for_upgrade(self):\n",
    "        pass"
   ]
  },
  {
   "cell_type": "code",
   "execution_count": 151,
   "id": "96de0a4f",
   "metadata": {},
   "outputs": [],
   "source": [
    "class Designer(Employee):\n",
    "    def __init__(self, name, seniority, prize = 2):\n",
    "        super().__init__(name, seniority)\n",
    "        self.prize = prize\n",
    "        \n",
    "        if self.prize != 0:\n",
    "            self.seniority += self.prize*2\n",
    "#        print(self.seniority)\n",
    "            \n",
    "    def check_if_it_is_time_for_upgrade(self): \n",
    "                    \n",
    "        self.seniority += 1\n",
    "        \n",
    "        if self.seniority % 7 == 0:\n",
    "            self.grade_up()\n",
    "            \n",
    "        return self.publish_grade()    \n",
    "            "
   ]
  },
  {
   "cell_type": "code",
   "execution_count": 152,
   "id": "332eb4eb",
   "metadata": {},
   "outputs": [
    {
     "name": "stdout",
     "output_type": "stream",
     "text": [
      "Semyon 3\n",
      "Semyon 4\n"
     ]
    }
   ],
   "source": [
    "senya = Designer('Semyon', 4, 2)\n",
    "\n",
    "for i in range(2):\n",
    "    senya.grade_up()\n",
    "    \n",
    "senya.publish_grade()\n",
    "senya.grade_up()\n",
    "senya.check_if_it_is_time_for_upgrade()"
   ]
  }
 ],
 "metadata": {
  "kernelspec": {
   "display_name": "Python 3",
   "language": "python",
   "name": "python3"
  },
  "language_info": {
   "codemirror_mode": {
    "name": "ipython",
    "version": 3
   },
   "file_extension": ".py",
   "mimetype": "text/x-python",
   "name": "python",
   "nbconvert_exporter": "python",
   "pygments_lexer": "ipython3",
   "version": "3.8.8"
  }
 },
 "nbformat": 4,
 "nbformat_minor": 5
}
