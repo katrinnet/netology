{
 "cells": [
  {
   "cell_type": "code",
   "execution_count": 2,
   "id": "35e1b8d7",
   "metadata": {},
   "outputs": [],
   "source": [
    "import numpy as np  \n",
    "import pandas as pd  # для работы с таблицами\n",
    "from scipy import stats # При работе со статистикой\n",
    "import matplotlib.pyplot as plt  # Библиотека для визуализации результатов \n",
    "\n",
    "import seaborn as sns # Более продвинутая библиотека для визуализации"
   ]
  },
  {
   "cell_type": "markdown",
   "id": "9c0c6c83",
   "metadata": {},
   "source": [
    "Задание № 0\n",
    "\n",
    "Найдите минимально необходимый объем выборки для построения интервальной оценки среднего.\n",
    "\n",
    "желаемая точность  Δ  = 3;\n",
    "дисперсия  𝜎2  = 225;\n",
    "уровень доверия  𝛽  = 0.95.\n",
    "Ответ округлите до целого"
   ]
  },
  {
   "cell_type": "code",
   "execution_count": 27,
   "id": "bb73944e",
   "metadata": {},
   "outputs": [
    {
     "name": "stdout",
     "output_type": "stream",
     "text": [
      "0.975\n",
      "1.959963984540054\n",
      "21608\n"
     ]
    },
    {
     "data": {
      "text/plain": [
       "28249"
      ]
     },
     "execution_count": 27,
     "metadata": {},
     "output_type": "execute_result"
    }
   ],
   "source": [
    "print(1 - 0.05/2)\n",
    "print(stats.norm.ppf(0.975)) # для одностороннего интервала\n",
    "z_a = 2.241 # для двустороннего интервала\n",
    "n_1 = round((stats.norm.ppf(0.975)*225/3)**2)\n",
    "print(n_1)\n",
    "n_2 = round(((2.241)*225/3)**2)\n",
    "n_2"
   ]
  },
  {
   "cell_type": "markdown",
   "id": "e9a8a081",
   "metadata": {},
   "source": [
    "Задание № 1\n",
    "Постройте 98% доверительный интервал для среднего значения, если известно, что\n",
    "\n",
    "объем выборки n = 25;\n",
    "среднее значение по выборке  𝑥⎯⎯⎯  = 130;\n",
    "Из достоверных источников известно стандартное отклонение  𝜎=15 .\n",
    "В ответ укажите длину полученного доверительного интервала (разницу между правым и левым концом), окруленную до целого"
   ]
  },
  {
   "cell_type": "code",
   "execution_count": 14,
   "id": "e1964ff8",
   "metadata": {},
   "outputs": [
    {
     "name": "stdout",
     "output_type": "stream",
     "text": [
      "0.99\n"
     ]
    },
    {
     "data": {
      "text/plain": [
       "15"
      ]
     },
     "execution_count": 14,
     "metadata": {},
     "output_type": "execute_result"
    }
   ],
   "source": [
    "print(1 - 0.02/2)\n",
    "z_a = 2.576 #считаем двусторонний интервал\n",
    "delta = z_a*15/5\n",
    "a = 130 - delta\n",
    "b = 130 + delta\n",
    "\n",
    "L = round(b - a)\n",
    "L"
   ]
  },
  {
   "cell_type": "markdown",
   "id": "cb2e2175",
   "metadata": {},
   "source": [
    "Задание № 2\n",
    "Даны две выборки роста мужчин и женщин.\n",
    "\n",
    "Докажите, используя t-Тест Стьдента, что различие между выборками незначительно, если уровень значимости равен  𝛼  = 0.001.\n",
    "Покажите различия визуально"
   ]
  },
  {
   "cell_type": "code",
   "execution_count": 8,
   "id": "d7bb8c3b",
   "metadata": {},
   "outputs": [
    {
     "name": "stdout",
     "output_type": "stream",
     "text": [
      "t_value: 3.6635841716708892 _pvalue:  0.00024875321033580573\n"
     ]
    },
    {
     "data": {
      "image/png": "[encoded data removed]",
      "text/plain": [
       "<Figure size 432x288 with 1 Axes>"
      ]
     },
     "metadata": {
      "needs_background": "light"
     },
     "output_type": "display_data"
    }
   ],
   "source": [
    "import scipy.stats as stats\n",
    "np.random.seed(42) #фиксация случайности\n",
    "\n",
    "mens  = stats.norm.rvs(loc=171, scale=100, size=150000)  # Выборка мужчин со средним ростом 171\n",
    "womens = stats.norm.rvs(loc=170, scale=100, size=150000)  # Выборка женщин со средним ростом 170\n",
    "\n",
    "tvalue, pvalue = stats.ttest_ind(mens, womens)\n",
    "print('t_value:',tvalue, '_pvalue: ',pvalue)\n",
    "\n",
    "plt.hist(mens, bins=15);\n",
    "plt.hist(womens, bins=15);"
   ]
  },
  {
   "cell_type": "markdown",
   "id": "e7a6477a",
   "metadata": {},
   "source": [
    "вывод: получили pvalue:  0.0002 < уровня значимости 𝛼  = 0.001 ???? получается, что различия существенны?"
   ]
  },
  {
   "cell_type": "code",
   "execution_count": null,
   "id": "d42857be",
   "metadata": {},
   "outputs": [],
   "source": [
    "Задание № 3\n",
    "Определите объем необходимой выборки для исследования среднего чека за кофе в случайном городе если известно, что в этом городе:\n",
    "\n",
    "стандартное отклонение  𝜎=150 ;\n",
    "уровень доверия  𝛽  = 95%;\n",
    "Погрешность  Δ=50  рублей."
   ]
  },
  {
   "cell_type": "code",
   "execution_count": 29,
   "id": "c21d1847",
   "metadata": {},
   "outputs": [
    {
     "data": {
      "text/plain": [
       "35"
      ]
     },
     "execution_count": 29,
     "metadata": {},
     "output_type": "execute_result"
    }
   ],
   "source": [
    "n = round((stats.norm.ppf(1 - 0.05/2)*150/50)**2) # односторонний интервал\n",
    "n"
   ]
  },
  {
   "cell_type": "markdown",
   "id": "56f2785c",
   "metadata": {},
   "source": [
    "Задание № 4\n",
    "Представьте, что вы хотите разоблачить \"волшебника\" который считает, что умеет предсказывать погоду на завтра, отвечая просто: дождь или солнце. Вы пронаблюдали за ответами \"волшебника\" в течении какого-то периода времени и получили некие результаты (см.ниже).\n",
    "\n",
    "Можно ли сказать, что маг действительно умеет предсказывать погоду? Уровень значимости принять за 0.05 ( 𝛼=0.05 )."
   ]
  },
  {
   "cell_type": "code",
   "execution_count": 20,
   "id": "06ce3c2d",
   "metadata": {},
   "outputs": [
    {
     "data": {
      "text/html": [
       "<div>\n",
       "<style scoped>\n",
       "    .dataframe tbody tr th:only-of-type {\n",
       "        vertical-align: middle;\n",
       "    }\n",
       "\n",
       "    .dataframe tbody tr th {\n",
       "        vertical-align: top;\n",
       "    }\n",
       "\n",
       "    .dataframe thead th {\n",
       "        text-align: right;\n",
       "    }\n",
       "</style>\n",
       "<table border=\"1\" class=\"dataframe\">\n",
       "  <thead>\n",
       "    <tr style=\"text-align: right;\">\n",
       "      <th></th>\n",
       "      <th>Верные ответы волшебника</th>\n",
       "      <th>Неверные ответы</th>\n",
       "    </tr>\n",
       "  </thead>\n",
       "  <tbody>\n",
       "    <tr>\n",
       "      <th>Дождь</th>\n",
       "      <td>10</td>\n",
       "      <td>15</td>\n",
       "    </tr>\n",
       "    <tr>\n",
       "      <th>Солнце</th>\n",
       "      <td>39</td>\n",
       "      <td>34</td>\n",
       "    </tr>\n",
       "  </tbody>\n",
       "</table>\n",
       "</div>"
      ],
      "text/plain": [
       "        Верные ответы волшебника  Неверные ответы\n",
       "Дождь                         10               15\n",
       "Солнце                        39               34"
      ]
     },
     "execution_count": 20,
     "metadata": {},
     "output_type": "execute_result"
    }
   ],
   "source": [
    "observations = pd.DataFrame([[10, 15],[39, 34]],\n",
    "                            index=['Дождь','Солнце'],\n",
    "                            columns=['Верные ответы волшебника','Неверные ответы'])\n",
    "observations"
   ]
  },
  {
   "cell_type": "code",
   "execution_count": 21,
   "id": "9585fd9c",
   "metadata": {},
   "outputs": [
    {
     "data": {
      "text/plain": [
       "(0.5811965811965812, 0.35417955365927367)"
      ]
     },
     "execution_count": 21,
     "metadata": {},
     "output_type": "execute_result"
    }
   ],
   "source": [
    "oddsratio, pvalue = stats.fisher_exact([[10, 15],[39, 34]])\n",
    "oddsratio, pvalue"
   ]
  },
  {
   "cell_type": "markdown",
   "id": "1028a4a5",
   "metadata": {},
   "source": [
    "вывод: pvalue = 0.35 > 𝛼=0.05, следовательно волшебник не умеет предсказывать погоду, нулевая гипотеза не опровергнута"
   ]
  },
  {
   "cell_type": "markdown",
   "id": "8d07a6fd",
   "metadata": {},
   "source": [
    "Задание № 5\n",
    "Используя функцию mean_confidence_interval(data, confidence), постройте доверительный интервал с уровнем доверия  𝛽=90%  для выборки:"
   ]
  },
  {
   "cell_type": "code",
   "execution_count": 42,
   "id": "db54f79a",
   "metadata": {},
   "outputs": [
    {
     "data": {
      "text/plain": [
       "(numbers    6.088751\n",
       " dtype: float64,\n",
       " numbers    7.168392\n",
       " dtype: float64)"
      ]
     },
     "execution_count": 42,
     "metadata": {},
     "output_type": "execute_result"
    }
   ],
   "source": [
    "data = [4,5,8,9,6,7,5,6,7,8,5,6,7,0,9,8,4,6,\n",
    "        7,9,8,6,5,7,8,9,6,7,5,8,6,7,9,5,10]\n",
    "\n",
    "df = pd.DataFrame(data, index=range(len(data)), columns=['numbers'])\n",
    "\n",
    "def mean_confidence_interval(data, confidence):\n",
    "    delta = stats.norm.ppf(1 - (1-confidence)/2)*data.std()/(len(data))**0.5\n",
    "    a = data.mean() - delta\n",
    "    b = data.mean() + delta\n",
    "    return a, b\n",
    "\n",
    "a, b = mean_confidence_interval(df, 0.9)\n",
    "a, b\n"
   ]
  },
  {
   "cell_type": "markdown",
   "id": "b7e8f912",
   "metadata": {},
   "source": [
    "# есть ли какой-то параметр, который можно указать для stats.norm.ppf, чтобы получать значания для двустороннего интервала?"
   ]
  },
  {
   "cell_type": "markdown",
   "id": "70daf74d",
   "metadata": {},
   "source": [
    "Задание № 6\n",
    "Принадлежат ли выборки A и B одному множеству?\n",
    "\n",
    "Оцените это с помощью известных вам тестов для проверок статистических гипотез;\n",
    "Покажите различия визуально."
   ]
  },
  {
   "cell_type": "code",
   "execution_count": 43,
   "id": "74424e4e",
   "metadata": {},
   "outputs": [
    {
     "name": "stdout",
     "output_type": "stream",
     "text": [
      "t_value: 11.865233896372924 _pvalue:  4.623319592204015e-25\n"
     ]
    },
    {
     "data": {
      "image/png": "[encoded data removed]",
      "text/plain": [
       "<Figure size 432x288 with 1 Axes>"
      ]
     },
     "metadata": {
      "needs_background": "light"
     },
     "output_type": "display_data"
    }
   ],
   "source": [
    "A = [4,5,8,9,6,7,5,6,7,6,8,5,6,7,8,4,\n",
    "    6,7,9,8,6,5,7,8,6,7,5,6,8,6,7,5,\n",
    "    4,5,8,9,6,7,5,6,7,6,8,5,6,7,8,4,\n",
    "    6,7,9,8,6,5,7,8,6,7,5,6,8,6,7,5,\n",
    "    4,5,8,9,6,7,5,6,7,6,8,5,6,7,8,4,\n",
    "    6,7,9,8,6,5,7,8,6,7,5,6,8,6,7,5,\n",
    "    4,5,8,9,6,7,5,6,7,6,8,5,6,7,8,4]\n",
    "\n",
    "B = [5,6,7,8,4,6,7,2,6,5,7,5,3,5,3,\n",
    "    5,3,5,5,8,7,6,4,5,3,5,4,6,4,5,3,\n",
    "    2,6,4,3,5,4,3,4,5,4,3,4,5,4,3,4,\n",
    "    2,6,4,3,5,4,3,4,5,4,3,4,5,4,3,4,\n",
    "    3,4,4,1,2,4,3,2,4,3,2,1,5,3,4,6,\n",
    "    3,2,4,5,6,4,3,3,5,3,4,4,4,2,5,3]\n",
    "\n",
    "tvalue, pvalue = stats.ttest_ind(A, B)\n",
    "print('t_value:',tvalue, '_pvalue: ',pvalue)\n",
    "\n",
    "plt.hist(B, bins=15);\n",
    "plt.hist(A, bins=15);"
   ]
  },
  {
   "cell_type": "markdown",
   "id": "08212333",
   "metadata": {},
   "source": [
    "вывод: выборки принадлежат разным распределениям"
   ]
  },
  {
   "cell_type": "markdown",
   "id": "998a2953",
   "metadata": {},
   "source": [
    "Задание № 7 (задание без подвоха)\n",
    "На примере датасета про жилье в New York City, мы сталкивались с примером, когда переменная имеет не совсем нормальное \n",
    "распределение.\n",
    "\n",
    "Предположим, Вы сформировали две гипотезы:\n",
    "нулевая гипотеза - распределение нормальное;\n",
    "альтернативная гипотеза - распределение ненормальное.\n",
    "допустим, вы применили какой-то тест (сейчас неважно какой), который показал уровень значимости p-value = 0.03. \n",
    "Каковы будут ваши выводы? Будем считать что у нас нормальное распределение или все-таки нет?"
   ]
  },
  {
   "cell_type": "markdown",
   "id": "ae1e4714",
   "metadata": {},
   "source": [
    "p-value = 0.03 < 0.05, следовательно можем считать, что нулевая гипотеза опровергнута, распределение считаем ненормальным."
   ]
  },
  {
   "cell_type": "code",
   "execution_count": null,
   "id": "b4b8405c",
   "metadata": {},
   "outputs": [],
   "source": [
    "Задание № 8\n",
    "Первая выборка — это пациенты, которых лечили препаратом А. Вторая выборка — пациенты, которых лечили препаратом B.\n",
    "\n",
    "Значения в выборках — это некоторая характеристика эффективности лечения (уровень метаболита в крови, \n",
    "температура через три дня после начала лечения, срок выздоровления, число койко-дней, и т.д.)\n",
    "\n",
    "Требуется выяснить, имеется ли значимое различие эффективности препаратов А и B, или различия являются чисто случайными \n",
    "и объясняются «естественной» дисперсией выбранной характеристики? (уровень значимости принять за 0.05 (5%))\n",
    "\n",
    "При каком минимальном p-value различия были бы уже значимы?\n",
    "\n",
    "Если выборки незначительно отличаются, то продемонстрируйте это визуально"
   ]
  },
  {
   "cell_type": "code",
   "execution_count": 45,
   "id": "e7f35a23",
   "metadata": {},
   "outputs": [
    {
     "name": "stdout",
     "output_type": "stream",
     "text": [
      "-1.95300880485141 0.051284593140469285\n"
     ]
    },
    {
     "data": {
      "image/png": "[encoded data removed]",
      "text/plain": [
       "<Figure size 432x288 with 1 Axes>"
      ]
     },
     "metadata": {
      "needs_background": "light"
     },
     "output_type": "display_data"
    }
   ],
   "source": [
    "np.random.seed(11)\n",
    "A = stats.norm.rvs(scale=15, loc=169, size=300)\n",
    "B = stats.norm.rvs(scale=14, loc=171.4, size=300)\n",
    "\n",
    "t, p_value = stats.ttest_ind(A, B) #Критерий Стьюдента (t-test)\n",
    "print(t, p_value)\n",
    "\n",
    "plt.hist(B, bins=25); #Выборка A\n",
    "plt.hist(A, bins=25);  #Выборка B"
   ]
  },
  {
   "cell_type": "markdown",
   "id": "c20c27bf",
   "metadata": {},
   "source": [
    "p_value = 0.0512 > уровня значимости = 0.05, следовательно значимых различий эффективности препаратов нет"
   ]
  }
 ],
 "metadata": {
  "kernelspec": {
   "display_name": "Python 3",
   "language": "python",
   "name": "python3"
  },
  "language_info": {
   "codemirror_mode": {
    "name": "ipython",
    "version": 3
   },
   "file_extension": ".py",
   "mimetype": "text/x-python",
   "name": "python",
   "nbconvert_exporter": "python",
   "pygments_lexer": "ipython3",
   "version": "3.8.8"
  }
 },
 "nbformat": 4,
 "nbformat_minor": 5
}
