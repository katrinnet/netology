{
 "cells": [
  {
   "cell_type": "markdown",
   "id": "78b19e23",
   "metadata": {},
   "source": [
    "# Задание 1"
   ]
  },
  {
   "cell_type": "code",
   "execution_count": 13,
   "id": "2083967c",
   "metadata": {},
   "outputs": [
    {
     "name": "stdout",
     "output_type": "stream",
     "text": [
      "es\n"
     ]
    }
   ],
   "source": [
    "word = 'test'\n",
    "\n",
    "if len(word) % 2 == 0:\n",
    "    middle = int(len(word)/2) - 1\n",
    "    print(word[middle:middle+2])\n",
    "else:\n",
    "    middle = int(len(word)//2)\n",
    "    print(word[middle])"
   ]
  },
  {
   "cell_type": "markdown",
   "id": "68843201",
   "metadata": {},
   "source": [
    "# Задание 2"
   ]
  },
  {
   "cell_type": "code",
   "execution_count": 90,
   "id": "42090c23",
   "metadata": {},
   "outputs": [
    {
     "name": "stdout",
     "output_type": "stream",
     "text": [
      "Введите число:0\n",
      "0\n"
     ]
    }
   ],
   "source": [
    "number = 1\n",
    "sum_numbers = 0\n",
    "\n",
    "while number != 0:\n",
    "    number = int(input('Введите число:'))\n",
    "    sum_numbers += number\n",
    "    \n",
    "print(sum_numbers)"
   ]
  },
  {
   "cell_type": "markdown",
   "id": "38d78ad1",
   "metadata": {},
   "source": [
    "# Задание 3"
   ]
  },
  {
   "cell_type": "code",
   "execution_count": 89,
   "id": "9cc1b1b3",
   "metadata": {},
   "outputs": [
    {
     "name": "stdout",
     "output_type": "stream",
     "text": [
      "Идеальные пары:\n",
      "Alex и Emma\n",
      "Arthur и Kate\n",
      "John и Kira\n",
      "Peter и Liza\n",
      "Richard и Trisha\n"
     ]
    }
   ],
   "source": [
    "boys = ['Peter', 'Alex', 'John', 'Arthur','Richard']\n",
    "girls = ['Kate', 'Liza', 'Kira', 'Emma', 'Trisha']\n",
    "number = 0\n",
    "\n",
    "if len(boys) == len(girls):\n",
    "    print('Идеальные пары:')\n",
    "    boys = sorted(boys)\n",
    "    girls = sorted(girls)\n",
    "    while number < len(boys):\n",
    "        print(f'{boys[number]} и {girls[number]}')\n",
    "        number += 1\n",
    "else:\n",
    "    print('Внимание, кто-то может остаться без пары!')"
   ]
  },
  {
   "cell_type": "markdown",
   "id": "af188a93",
   "metadata": {},
   "source": [
    "# Задание 4"
   ]
  },
  {
   "cell_type": "code",
   "execution_count": 65,
   "id": "747b3274",
   "metadata": {},
   "outputs": [
    {
     "name": "stdout",
     "output_type": "stream",
     "text": [
      "Средняя температура в странах:\n",
      "Thailand - 23.9 C\n",
      "Germany - 13.8 C\n",
      "Russia - 3.7 C\n",
      "Poland - 12.0 C\n"
     ]
    }
   ],
   "source": [
    "countries_temperature = [\n",
    "['Thailand', [75.2, 77, 78.8, 73.4, 68, 75.2, 77]],\n",
    "['Germany', [57.2, 55.4, 59, 59, 53.6]],\n",
    "['Russia', [35.6, 37.4, 39.2, 41, 42.8, 39.2, 35.6]],\n",
    "['Poland', [50, 50, 53.6, 57.2, 55.4, 55.4]]\n",
    "]\n",
    "sum_temp = 0\n",
    "    \n",
    "print('Средняя температура в странах:')\n",
    "\n",
    "for country in countries_temperature:\n",
    "    number = 0 \n",
    "    sum_temp = 0\n",
    "    while number < len(country[1]):\n",
    "        sum_temp += country[1][number]\n",
    "        number += 1\n",
    "    print('%s - %.1f C' % (country[0], (sum_temp/len(country[1])-32)/1.8))\n",
    "    \n",
    "        "
   ]
  },
  {
   "cell_type": "markdown",
   "id": "a5d6e06e",
   "metadata": {},
   "source": [
    "# Задание 5"
   ]
  },
  {
   "cell_type": "code",
   "execution_count": 123,
   "id": "ae9b1dc3",
   "metadata": {
    "scrolled": true
   },
   "outputs": [
    {
     "name": "stdout",
     "output_type": "stream",
     "text": [
      "Среднее количество просмотров на уникального пользователя: 23.25\n"
     ]
    }
   ],
   "source": [
    "stream = [\n",
    "'2018-01-01,user1,3',\n",
    "'2018-01-07,user1,4',\n",
    "'2018-03-29,user1,1',\n",
    "'2018-04-04,user1,13',\n",
    "'2018-01-05,user2,7',\n",
    "'2018-06-14,user3,4',\n",
    "'2018-07-02,user3,10',\n",
    "'2018-03-21,user4,19',\n",
    "'2018-03-22,user4,4',\n",
    "'2018-04-22,user4,8',\n",
    "'2018-05-03,user4,9',\n",
    "'2018-05-11,user4,11',\n",
    "]\n",
    "\n",
    "split_stream = []\n",
    "user = []\n",
    "i = 0\n",
    "sum_views = 0\n",
    "unique_user = 1\n",
    "\n",
    "for string in stream:\n",
    "    split_stream.append(string.split(','))\n",
    "    user.append(split_stream[i][1])\n",
    "    sum_views += int(split_stream[i][2])\n",
    "    i += 1\n",
    "\n",
    "user = sorted(user)\n",
    "i = 0\n",
    "    \n",
    "while i < len(split_stream)-1:\n",
    "    if split_stream[i][1] != split_stream[i+1][1]:\n",
    "        unique_user += 1\n",
    "    i +=1\n",
    "\n",
    "print('Среднее количество просмотров на уникального пользователя: %.2f' %(sum_views/unique_user))\n",
    "        "
   ]
  },
  {
   "cell_type": "markdown",
   "id": "98a175bc",
   "metadata": {},
   "source": [
    "# Задание 6"
   ]
  },
  {
   "cell_type": "code",
   "execution_count": 118,
   "id": "691c3456",
   "metadata": {},
   "outputs": [
    {
     "name": "stdout",
     "output_type": "stream",
     "text": [
      "Введите числа через пробел:1 1 2 2\n",
      "1 2 \n"
     ]
    }
   ],
   "source": [
    "string_of_numbers = input('Введите числа через пробел:')\n",
    "\n",
    "numbers = string_of_numbers.split(' ')\n",
    "numbers = sorted(numbers)\n",
    "repeated_numbers = ''\n",
    "i = 0\n",
    "\n",
    "while i < len(numbers) :\n",
    "    if numbers.count(numbers[i]) > 1:\n",
    "        repeated_numbers += numbers[i]+' '\n",
    "        i += numbers.count(numbers[i])-1\n",
    "    i +=1\n",
    "    \n",
    "print(repeated_numbers)\n"
   ]
  }
 ],
 "metadata": {
  "kernelspec": {
   "display_name": "Python 3",
   "language": "python",
   "name": "python3"
  },
  "language_info": {
   "codemirror_mode": {
    "name": "ipython",
    "version": 3
   },
   "file_extension": ".py",
   "mimetype": "text/x-python",
   "name": "python",
   "nbconvert_exporter": "python",
   "pygments_lexer": "ipython3",
   "version": "3.8.8"
  }
 },
 "nbformat": 4,
 "nbformat_minor": 5
}
