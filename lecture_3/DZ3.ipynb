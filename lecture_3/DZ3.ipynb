{
 "cells": [
  {
   "cell_type": "markdown",
   "id": "24d1b2bb",
   "metadata": {},
   "source": [
    "# Задание 1"
   ]
  },
  {
   "cell_type": "code",
   "execution_count": 9,
   "id": "f9e64352",
   "metadata": {},
   "outputs": [
    {
     "name": "stdout",
     "output_type": "stream",
     "text": [
      "{98, 35, 213, 54, 119, 15}\n"
     ]
    }
   ],
   "source": [
    "ids = {'user1': [213, 213, 213, 15, 213],\n",
    "'user2': [54, 54, 119, 119, 119],\n",
    "'user3': [213, 98, 98, 35]}\n",
    "\n",
    "unique_geo = set()\n",
    "\n",
    "for value in ids.values():\n",
    "    unique_geo = unique_geo | set(value)\n",
    "\n",
    "print (unique_geo)"
   ]
  },
  {
   "cell_type": "markdown",
   "id": "bb2ebcec",
   "metadata": {},
   "source": [
    "# Задание 2"
   ]
  },
  {
   "cell_type": "code",
   "execution_count": 129,
   "id": "d7d6bc57",
   "metadata": {},
   "outputs": [
    {
     "name": "stdout",
     "output_type": "stream",
     "text": [
      "Поисковых запросов, содержащих 2 слов(а): 42.86%\n",
      "Поисковых запросов, содержащих 3 слов(а): 57.14%\n"
     ]
    }
   ],
   "source": [
    "queries = [\n",
    "'смотреть сериалы онлайн',\n",
    "'новости спорта',\n",
    "'афиша кино',\n",
    "'курс доллара',\n",
    "'сериалы этим летом',\n",
    "'курс по питону',\n",
    "'сериалы про спорт',\n",
    "]\n",
    "query_list = []\n",
    "words_in_query = []\n",
    "\n",
    "for query in queries:\n",
    "    query_list = query.split(' ')\n",
    "    words_in_query.append(len(query_list))\n",
    "    \n",
    "diff_query = set(words_in_query)\n",
    "\n",
    "for item in diff_query:\n",
    "    print(f'Поисковых запросов, содержащих {item} слов(а): {words_in_query.count(item) / len(queries) :.2%}')"
   ]
  },
  {
   "cell_type": "markdown",
   "id": "1eac3abb",
   "metadata": {},
   "source": [
    "# Задание 3"
   ]
  },
  {
   "cell_type": "code",
   "execution_count": 116,
   "id": "88068612",
   "metadata": {},
   "outputs": [
    {
     "name": "stdout",
     "output_type": "stream",
     "text": [
      "adwords {'revenue': 35, 'cost': 34, 'ROI': 2.94}\n",
      "facebook {'revenue': 103, 'cost': 110, 'ROI': -6.36}\n",
      "twitter {'revenue': 11, 'cost': 24, 'ROI': -54.17}\n",
      "vk {'revenue': 103, 'cost': 98, 'ROI': 5.1}\n",
      "yandex {'revenue': 179, 'cost': 153, 'ROI': 16.99}\n"
     ]
    }
   ],
   "source": [
    "import collections\n",
    "\n",
    "results = {\n",
    "'vk': {'revenue': 103, 'cost': 98},\n",
    "'yandex': {'revenue': 179, 'cost': 153},\n",
    "'facebook': {'revenue': 103, 'cost': 110},\n",
    "'adwords': {'revenue': 35, 'cost': 34},\n",
    "'twitter': {'revenue': 11, 'cost': 24},\n",
    "}\n",
    "    \n",
    "for key,value in results.items():\n",
    "    value.setdefault('ROI', round(((value['revenue'] / value['cost'] - 1) * 100), 2))\n",
    "    \n",
    "sort_results = collections.OrderedDict(sorted(results.items()))\n",
    "\n",
    "for key, value in sort_results.items(): print(key, value)\n"
   ]
  },
  {
   "cell_type": "markdown",
   "id": "63166f52",
   "metadata": {},
   "source": [
    "# Задание 4"
   ]
  },
  {
   "cell_type": "code",
   "execution_count": 122,
   "id": "c4b79c77",
   "metadata": {},
   "outputs": [
    {
     "name": "stdout",
     "output_type": "stream",
     "text": [
      "Максимальный объем продаж на рекламном канале: vk\n",
      "Максимальный объем продаж на рекламном канале:  {'vk'}\n"
     ]
    }
   ],
   "source": [
    "stats = {'facebook': 55, 'yandex': 115, 'vk': 120, 'google': 99, 'email': 42, 'ok': 98}\n",
    "\n",
    "result_channel = max(stats.values())\n",
    "\n",
    "for key, value in stats.items():\n",
    "    if value == result_channel:\n",
    "        print(f'Максимальный объем продаж на рекламном канале: {key}')\n",
    "        \n",
    "#print('Максимальный объем продаж на рекламном канале:', {key for key, value in stats.items() if value == result_channel})"
   ]
  },
  {
   "cell_type": "markdown",
   "id": "3ddeb784",
   "metadata": {},
   "source": [
    "# Задание 5"
   ]
  },
  {
   "cell_type": "code",
   "execution_count": 98,
   "id": "8992c19d",
   "metadata": {},
   "outputs": [
    {
     "name": "stdout",
     "output_type": "stream",
     "text": [
      "{'a': {'b': {'c': {'d': {'e': 'f'}}}}}\n"
     ]
    }
   ],
   "source": [
    "#my_list = ['2018-01-01', 'yandex', 'cpc', 100]\n",
    "my_list = ['a', 'b', 'c', 'd', 'e', 'f']\n",
    "\n",
    "my_dict = {}\n",
    "my_dict.setdefault(my_list[-2], my_list[-1])\n",
    "i = -3\n",
    "\n",
    "while i > - len(my_list) - 1:\n",
    "    my_dict = {my_list[i]: my_dict}\n",
    "    i -= 1\n",
    "    \n",
    "print(my_dict)"
   ]
  },
  {
   "cell_type": "markdown",
   "id": "0e3c4295",
   "metadata": {},
   "source": [
    "# Задание 6"
   ]
  },
  {
   "cell_type": "code",
   "execution_count": 115,
   "id": "522b76a2",
   "metadata": {},
   "outputs": [
    {
     "name": "stdout",
     "output_type": "stream",
     "text": [
      "Введите количество порций:3\n",
      "\n",
      "[['сыр', 150, 'гр'], ['томаты', 6, 'шт'], ['огурцы', 60, 'гр'], ['маслины', 30, 'гр'], ['оливковое масло', 60, 'мл'], ['салат', 30, 'гр'], ['лайм', 60, 'гр'], ['сыр', 60, 'гр'], ['колбаса', 90, 'гр'], ['бекон', 90, 'гр'], ['оливки', 30, 'гр'], ['томаты', 60, 'гр'], ['тесто', 300, 'гр'], ['лимон', 3, 'шт'], ['вода', 600, 'мл'], ['бекон', 30, 'гр'], ['лайм', 60, 'гр']]\n",
      "Сыр: 210 гр\n",
      "Томаты: 6 шт\n",
      "Огурцы: 60 гр\n",
      "Маслины: 30 гр\n",
      "Оливковое масло: 60 мл\n",
      "Салат: 30 гр\n",
      "Лайм: 120 гр\n",
      "Колбаса: 90 гр\n",
      "Бекон: 120 гр\n",
      "Оливки: 30 гр\n",
      "Томаты: 60 гр\n",
      "Тесто: 300 гр\n",
      "Лимон: 3 шт\n",
      "Вода: 600 мл\n"
     ]
    }
   ],
   "source": [
    "cook_book = {\n",
    "  'салат': [\n",
    "     {'ingridient_name': 'сыр', 'quantity': 50, 'measure': 'гр'},\n",
    "     {'ingridient_name': 'томаты', 'quantity': 2, 'measure': 'шт'},\n",
    "     {'ingridient_name': 'огурцы', 'quantity': 20, 'measure': 'гр'},\n",
    "     {'ingridient_name': 'маслины', 'quantity': 10, 'measure': 'гр'},\n",
    "     {'ingridient_name': 'оливковое масло', 'quantity': 20, 'measure': 'мл'},\n",
    "     {'ingridient_name': 'салат', 'quantity': 10, 'measure': 'гр'},\n",
    "     {'ingridient_name': 'лайм', 'quantity': 20, 'measure': 'гр'}\n",
    "    ],\n",
    "  'пицца': [\n",
    "     {'ingridient_name': 'сыр', 'quantity': 20, 'measure': 'гр'},\n",
    "     {'ingridient_name': 'колбаса', 'quantity': 30, 'measure': 'гр'},\n",
    "     {'ingridient_name': 'бекон', 'quantity': 30, 'measure': 'гр'},\n",
    "     {'ingridient_name': 'оливки', 'quantity': 10, 'measure': 'гр'},\n",
    "     {'ingridient_name': 'томаты', 'quantity': 20, 'measure': 'гр'},\n",
    "     {'ingridient_name': 'тесто', 'quantity': 100, 'measure': 'гр'},   \n",
    "    ],\n",
    "  'лимонад': [\n",
    "     {'ingridient_name': 'лимон', 'quantity': 1, 'measure': 'шт'},\n",
    "     {'ingridient_name': 'вода', 'quantity': 200, 'measure': 'мл'},\n",
    "     {'ingridient_name': 'бекон', 'quantity': 10, 'measure': 'гр'},\n",
    "     {'ingridient_name': 'лайм', 'quantity': 20, 'measure': 'гр'},    \n",
    "    ]\n",
    "}\n",
    "\n",
    "my_list = []\n",
    "i = 0\n",
    "j = 1\n",
    "portion = int(input('Введите количество порций:'))\n",
    "print()\n",
    "\n",
    "for value in cook_book.values():\n",
    "    for product in value:\n",
    "        my_list.append([product['ingridient_name'], product['quantity']*portion, product['measure']])\n",
    "print(my_list)\n",
    "\n",
    "while i < len(my_list):\n",
    "    j = i+1\n",
    "    while j < len(my_list):\n",
    "        if my_list[i][0] == my_list[j][0] and my_list[i][2] == my_list[j][2]:\n",
    "            my_list[i][1] = int(my_list[i][1]) + int(my_list[j][1])\n",
    "            del(my_list[j])\n",
    "        j += 1\n",
    "    i += 1\n",
    "    \n",
    "for product in my_list:\n",
    "    print(f'{product[0].capitalize()}: {product[1]} {product[2]}')"
   ]
  }
 ],
 "metadata": {
  "kernelspec": {
   "display_name": "Python 3",
   "language": "python",
   "name": "python3"
  },
  "language_info": {
   "codemirror_mode": {
    "name": "ipython",
    "version": 3
   },
   "file_extension": ".py",
   "mimetype": "text/x-python",
   "name": "python",
   "nbconvert_exporter": "python",
   "pygments_lexer": "ipython3",
   "version": "3.8.8"
  }
 },
 "nbformat": 4,
 "nbformat_minor": 5
}
