{
 "cells": [
  {
   "cell_type": "markdown",
   "id": "3d136443",
   "metadata": {},
   "source": [
    "# Задание 1"
   ]
  },
  {
   "cell_type": "code",
   "execution_count": 46,
   "id": "8c181cd0",
   "metadata": {
    "scrolled": true
   },
   "outputs": [
    {
     "name": "stdout",
     "output_type": "stream",
     "text": [
      "Номер А222ВС валиден. Регион: 96\n",
      "Номер не валиден\n",
      "Номер не валиден\n"
     ]
    }
   ],
   "source": [
    "import re\n",
    "car_id = 'А222ВС96'\n",
    "car_id1 = 'АВ222С96'\n",
    "car_id2 = 'АБ22ВВ193'\n",
    "\n",
    "\n",
    "def valid_number(car_id):\n",
    "    if re.findall(r'([АВЕКМНОРСТУХ]{1})(\\d{3})([АВЕКМНОРСТУХ]{2})(\\d{2,3})', car_id):\n",
    "        print(f'Номер {car_id[:6]} валиден. Регион: {car_id[6:]}')\n",
    "    else:\n",
    "        print('Номер не валиден')\n",
    "        \n",
    "valid_number(car_id)\n",
    "valid_number(car_id1)\n",
    "valid_number(car_id2)"
   ]
  },
  {
   "cell_type": "markdown",
   "id": "92ac875b",
   "metadata": {},
   "source": [
    "# Задание 2 "
   ]
  },
  {
   "cell_type": "code",
   "execution_count": 47,
   "id": "310cbee3",
   "metadata": {},
   "outputs": [
    {
     "name": "stdout",
     "output_type": "stream",
     "text": [
      "Напишите функцию, которая будет удалять все последовательные повторы слов из заданной строки при помощи регулярных выражений\n",
      "w aad z zz z\n"
     ]
    }
   ],
   "source": [
    "import re\n",
    "\n",
    "some_string1 = 'w w w w w w w w w w w w w aad z zz z z'\n",
    "some_string = 'Напишите функцию функцию, которая будет будет будет будет будет будет будет \\\n",
    "удалять все все все все последовательные повторы слов из из из из заданной строки строки при помощи регулярных выражений'\n",
    "\n",
    "def delete_dublicate(some_string):\n",
    "    while len(some_string) > len(re.sub(r'\\b(\\w+)\\s+\\1\\b', r'\\1', some_string)):\n",
    "        some_string = re.sub(r'\\b(\\w+)\\s+\\1\\b', r'\\1', some_string)\n",
    "    print(re.sub(r'\\b(\\w+)\\s+\\1\\b', r'\\1', some_string))\n",
    "\n",
    "delete_dublicate(some_string)    \n",
    "delete_dublicate(some_string1) "
   ]
  },
  {
   "cell_type": "markdown",
   "id": "3d1075d8",
   "metadata": {},
   "source": [
    "# Задание 3"
   ]
  },
  {
   "cell_type": "code",
   "execution_count": 48,
   "id": "559aa143",
   "metadata": {},
   "outputs": [
    {
     "name": "stdout",
     "output_type": "stream",
     "text": [
      "ИТ\n",
      "NFC\n"
     ]
    }
   ],
   "source": [
    "import re\n",
    "\n",
    "some_words = 'Информационные технологи'\n",
    "some_words1 = 'Near Field Communication'\n",
    "\n",
    "def make_acronym(some_words):\n",
    "    acronim = ','.join(re.findall(r'^[А-ЯЁа-яёA-Za-z]|(?<=[^\\w])[А-ЯЁа-яёA-Za-z]|(?<![А-ЯЁA-Z])[А-ЯЁA-Z]', some_words))\n",
    "    print(acronim.replace(',','').upper())\n",
    "   \n",
    "make_acronym(some_words) \n",
    "make_acronym(some_words1)"
   ]
  },
  {
   "cell_type": "markdown",
   "id": "00349cbc",
   "metadata": {},
   "source": [
    "# Задание 4"
   ]
  },
  {
   "cell_type": "code",
   "execution_count": 39,
   "id": "836d6efd",
   "metadata": {},
   "outputs": [
    {
     "name": "stdout",
     "output_type": "stream",
     "text": [
      "gmail.com: 2\n",
      "test.in: 1\n",
      "ya.ru: 2\n",
      "mail.ru: 1\n"
     ]
    }
   ],
   "source": [
    "import re\n",
    "\n",
    "emails = ['test@gmail.com', 'xyz@test.in', 'test@ya.ru', 'xyz@mail.ru', 'xyz@ya.ru', 'xyz@gmail.com']\n",
    "\n",
    "def domain_counter(emails):\n",
    "    domains = {}    \n",
    "    for email in emails:\n",
    "        domain_pattern = re.search(r'(?<=@)(\\w+)\\.(\\w+)', email).group()\n",
    "        if domain_pattern not in domains.keys():\n",
    "            domains[domain_pattern] = 1\n",
    "        else:\n",
    "            domains[domain_pattern] += 1\n",
    "    for key, value in domains.items():\n",
    "        print(f'{key}: {value}')\n",
    "    \n",
    "domain_counter(emails)\n"
   ]
  },
  {
   "cell_type": "markdown",
   "id": "830aec39",
   "metadata": {},
   "source": [
    "# Задание 5"
   ]
  },
  {
   "cell_type": "code",
   "execution_count": 45,
   "id": "2258e08e",
   "metadata": {},
   "outputs": [
    {
     "name": "stdout",
     "output_type": "stream",
     "text": [
      "Слов на гласные буквы: 9\n",
      "Слов на согласные буквы: 21\n"
     ]
    }
   ],
   "source": [
    "import re\n",
    "\n",
    "some_text = 'Эталонной реализацией Python является интерпретатор CPython, поддерживающий большинство активно используемых \\\n",
    "платформ. Он распространяется под свободной лицензией Python Software Foundation License, позволяющей использовать его без \\\n",
    "ограничений в любых приложениях, включая проприетарные.'\n",
    "\n",
    "def count_first_letters(some_text):\n",
    "    letters = re.findall(r'^[А-ЯЁа-яёA-Za-z]|(?<=[^\\w])[А-ЯЁа-яёA-Za-z]|(?<![А-ЯЁA-Z])[А-ЯЁA-Z]', some_text)\n",
    "    vowel = 0\n",
    "    consonant = 0\n",
    "    for letter in letters:\n",
    "        if letter.lower() in 'aeiou' or letter.lower() in 'аоуюэяиеёй':\n",
    "            vowel += 1\n",
    "        else:\n",
    "            consonant += 1\n",
    "            \n",
    "   # print(re.findall(r'^[А-ЯЁа-яёA-Za-z]|(?<=[^\\w])[А-ЯЁа-яёA-Za-z]|(?<![А-ЯЁA-Z])[А-ЯЁA-Z]', some_text))\n",
    "    print(f'Слов на гласные буквы: {vowel}')\n",
    "    print(f'Слов на согласные буквы: {consonant}') \n",
    "    \n",
    "count_first_letters(some_text)\n",
    "    "
   ]
  },
  {
   "cell_type": "markdown",
   "id": "e54b46e1",
   "metadata": {},
   "source": [
    "# Задание 6"
   ]
  },
  {
   "cell_type": "code",
   "execution_count": 65,
   "id": "06cc5d5d",
   "metadata": {},
   "outputs": [
    {
     "name": "stdout",
     "output_type": "stream",
     "text": [
      "+7-955-555-55-55\n"
     ]
    }
   ],
   "source": [
    "import re\n",
    "\n",
    "phone = '+ 8(955) 555-55 55'\n",
    "\n",
    "def phone_number(phone):\n",
    "    phone_pattern = re.sub(r'(\\+?\\s?)([7,8])([\\s,-,\\(]?)(\\d{3})([\\s,-,\\)]?)-?\\s?(\\d{3})([\\s,-]?)(\\d{2})([\\s,-]?)(\\d{2})', r'+7-\\4-\\6-\\8-\\10', phone)\n",
    "    if phone_pattern:\n",
    "        print(phone_pattern)\n",
    "    else:\n",
    "        print('Номер не валиден')\n",
    "    \n",
    "phone_number(phone)"
   ]
  }
 ],
 "metadata": {
  "kernelspec": {
   "display_name": "Python 3",
   "language": "python",
   "name": "python3"
  },
  "language_info": {
   "codemirror_mode": {
    "name": "ipython",
    "version": 3
   },
   "file_extension": ".py",
   "mimetype": "text/x-python",
   "name": "python",
   "nbconvert_exporter": "python",
   "pygments_lexer": "ipython3",
   "version": "3.8.8"
  }
 },
 "nbformat": 4,
 "nbformat_minor": 5
}
