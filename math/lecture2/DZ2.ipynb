{
 "cells": [
  {
   "cell_type": "code",
   "execution_count": 1,
   "id": "4453ccdb",
   "metadata": {},
   "outputs": [],
   "source": [
    "import numpy as np\n",
    "import random"
   ]
  },
  {
   "cell_type": "code",
   "execution_count": 15,
   "id": "35f98963",
   "metadata": {},
   "outputs": [
    {
     "data": {
      "text/plain": [
       "(array([[0.20335378, 0.06961338, 0.23792651, 0.77938675, 0.14815512],\n",
       "        [0.03880515, 0.46323401, 0.45443783, 0.95066941, 0.94759771],\n",
       "        [0.69089979, 0.33234087, 0.95492771, 0.96522274, 0.55257711],\n",
       "        [0.06987275, 0.69125994, 0.21849881, 0.99179076, 0.6676539 ],\n",
       "        [0.48575939, 0.79918544, 0.57487856, 0.52186194, 0.51559113]]),\n",
       " -0.0010309097326475375,\n",
       " 5,\n",
       " array([ 2.76593914+0.j        ,  0.39945658+0.36934541j,\n",
       "         0.39945658-0.36934541j, -0.43882452+0.j        ,\n",
       "         0.00286961+0.j        ]))"
      ]
     },
     "execution_count": 15,
     "metadata": {},
     "output_type": "execute_result"
    }
   ],
   "source": [
    "A1 = np.random.random((5, 5))\n",
    "A1, np.linalg.det(A1), np.linalg.matrix_rank(A1), np.linalg.eigvals(A1)"
   ]
  },
  {
   "cell_type": "code",
   "execution_count": 16,
   "id": "71007e5e",
   "metadata": {},
   "outputs": [
    {
     "data": {
      "text/plain": [
       "(array([[0.20335378, 0.03880515, 0.69089979, 0.06987275, 0.48575939],\n",
       "        [0.06961338, 0.46323401, 0.33234087, 0.69125994, 0.79918544],\n",
       "        [0.23792651, 0.45443783, 0.95492771, 0.21849881, 0.57487856],\n",
       "        [0.77938675, 0.95066941, 0.96522274, 0.99179076, 0.52186194],\n",
       "        [0.14815512, 0.94759771, 0.55257711, 0.6676539 , 0.51559113]]),\n",
       " -0.0010309097326475182,\n",
       " 5,\n",
       " array([ 2.76593914+0.j        ,  0.39945658+0.36934541j,\n",
       "         0.39945658-0.36934541j,  0.00286961+0.j        ,\n",
       "        -0.43882452+0.j        ]))"
      ]
     },
     "execution_count": 16,
     "metadata": {},
     "output_type": "execute_result"
    }
   ],
   "source": [
    "A1_t = np.transpose(A1)\n",
    "A1_t, np.linalg.det(A1_t), np.linalg.matrix_rank(A1_t), np.linalg.eigvals(A1_t)"
   ]
  },
  {
   "cell_type": "markdown",
   "id": "ae339c24",
   "metadata": {},
   "source": [
    "определитель и ранг транспонированной матрицы не изменились, в собственных значениях 4 и 5 поменялись местами"
   ]
  },
  {
   "cell_type": "code",
   "execution_count": 17,
   "id": "258de7d2",
   "metadata": {},
   "outputs": [
    {
     "data": {
      "text/plain": [
       "(array([[ 170.75078885,   98.72826701, -128.60177821, -172.26424646,\n",
       "          130.38046568],\n",
       "        [ -52.77348306,  -31.45259494,   39.17624422,   53.94875605,\n",
       "          -38.87561943],\n",
       "        [-153.87455594,  -89.04703746,  116.83065164,  154.02985836,\n",
       "         -116.79508035],\n",
       "        [ -11.34726247,   -7.70947402,    9.48925693,   13.37020549,\n",
       "          -10.05366607],\n",
       "        [ 103.98334273,   62.82650307,  -79.43325654, -106.59987693,\n",
       "           79.76263651]]),\n",
       " -970.0170328510064,\n",
       " 5,\n",
       " array([348.47976307+0.j        ,  -2.27881523+0.j        ,\n",
       "          1.34959942+1.24786616j,   1.34959942-1.24786616j,\n",
       "          0.36154085+0.j        ]))"
      ]
     },
     "execution_count": 17,
     "metadata": {},
     "output_type": "execute_result"
    }
   ],
   "source": [
    "A1_i = np.linalg.inv(A1)\n",
    "A1_i, np.linalg.det(A1_i), np.linalg.matrix_rank(A1_i), np.linalg.eigvals(A1_i)"
   ]
  },
  {
   "cell_type": "markdown",
   "id": "86f81d93",
   "metadata": {},
   "source": [
    "получили обратный определитель, тот же ранг, новые собственные значения"
   ]
  },
  {
   "cell_type": "code",
   "execution_count": 18,
   "id": "b80f41d6",
   "metadata": {},
   "outputs": [
    {
     "data": {
      "text/plain": [
       "(array([[0.66895213, 0.        , 0.        , 0.        ],\n",
       "        [0.        , 0.40621599, 0.        , 0.        ],\n",
       "        [0.        , 0.        , 0.92687189, 0.        ],\n",
       "        [0.        , 0.        , 0.        , 0.60223185]]),\n",
       " 0.15168250393830598,\n",
       " 4,\n",
       " array([0.66895213, 0.40621599, 0.92687189, 0.60223185]))"
      ]
     },
     "execution_count": 18,
     "metadata": {},
     "output_type": "execute_result"
    }
   ],
   "source": [
    "A2 = np.eye(4)*np.random.random((4, 4))\n",
    "A2, np.linalg.det(A2), np.linalg.matrix_rank(A2), np.linalg.eigvals(A2)"
   ]
  },
  {
   "cell_type": "code",
   "execution_count": 20,
   "id": "c22b8a14",
   "metadata": {},
   "outputs": [
    {
     "data": {
      "text/plain": [
       "(array([[0., 0., 0.],\n",
       "        [0., 0., 0.],\n",
       "        [0., 0., 0.]]),\n",
       " 0.0,\n",
       " 0,\n",
       " array([0., 0., 0.]))"
      ]
     },
     "execution_count": 20,
     "metadata": {},
     "output_type": "execute_result"
    }
   ],
   "source": [
    "A3 = np.zeros((3, 3))\n",
    "A3, np.linalg.det(A3), np.linalg.matrix_rank(A3), np.linalg.eigvals(A3)"
   ]
  }
 ],
 "metadata": {
  "kernelspec": {
   "display_name": "Python 3",
   "language": "python",
   "name": "python3"
  },
  "language_info": {
   "codemirror_mode": {
    "name": "ipython",
    "version": 3
   },
   "file_extension": ".py",
   "mimetype": "text/x-python",
   "name": "python",
   "nbconvert_exporter": "python",
   "pygments_lexer": "ipython3",
   "version": "3.8.8"
  }
 },
 "nbformat": 4,
 "nbformat_minor": 5
}
