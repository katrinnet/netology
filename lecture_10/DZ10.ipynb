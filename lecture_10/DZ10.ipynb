{
 "cells": [
  {
   "cell_type": "markdown",
   "id": "afd155ca",
   "metadata": {},
   "source": [
    "# Задание 1"
   ]
  },
  {
   "cell_type": "code",
   "execution_count": 78,
   "id": "579e1843",
   "metadata": {},
   "outputs": [
    {
     "data": {
      "text/html": [
       "<div>\n",
       "<style scoped>\n",
       "    .dataframe tbody tr th:only-of-type {\n",
       "        vertical-align: middle;\n",
       "    }\n",
       "\n",
       "    .dataframe tbody tr th {\n",
       "        vertical-align: top;\n",
       "    }\n",
       "\n",
       "    .dataframe thead th {\n",
       "        text-align: right;\n",
       "    }\n",
       "</style>\n",
       "<table border=\"1\" class=\"dataframe\">\n",
       "  <thead>\n",
       "    <tr style=\"text-align: right;\">\n",
       "      <th></th>\n",
       "      <th>movieId</th>\n",
       "      <th>rating</th>\n",
       "      <th>title</th>\n",
       "      <th>genres</th>\n",
       "    </tr>\n",
       "  </thead>\n",
       "  <tbody>\n",
       "    <tr>\n",
       "      <th>0</th>\n",
       "      <td>318</td>\n",
       "      <td>153</td>\n",
       "      <td>Shawshank Redemption, The (1994)</td>\n",
       "      <td>Crime|Drama</td>\n",
       "    </tr>\n",
       "  </tbody>\n",
       "</table>\n",
       "</div>"
      ],
      "text/plain": [
       "   movieId  rating                             title       genres\n",
       "0      318     153  Shawshank Redemption, The (1994)  Crime|Drama"
      ]
     },
     "execution_count": 78,
     "metadata": {},
     "output_type": "execute_result"
    }
   ],
   "source": [
    "import pandas as pd\n",
    "\n",
    "movies = pd.read_csv('movies.csv')\n",
    "ratings = pd.read_csv('ratings.csv')\n",
    "\n",
    "ratings = ratings[['movieId', 'rating']][ratings.rating == 5.0].groupby('movieId').count().sort_values('rating', ascending=False).head(1)\n",
    "\n",
    "ratings.merge(movies, on='movieId', how='left')\n",
    "\n"
   ]
  },
  {
   "cell_type": "markdown",
   "id": "0de18bd2",
   "metadata": {},
   "source": [
    "# Задание 2"
   ]
  },
  {
   "cell_type": "code",
   "execution_count": 91,
   "id": "b4f1d2c9",
   "metadata": {},
   "outputs": [
    {
     "data": {
      "text/plain": [
       "quantity    240580.0\n",
       "dtype: float64"
      ]
     },
     "execution_count": 91,
     "metadata": {},
     "output_type": "execute_result"
    }
   ],
   "source": [
    "power = pd.read_csv('power.csv')\n",
    "\n",
    "power = power[(power.year >= 2005) & (power.year <= 2010) & (power.quantity > 0) & \n",
    "              ((power['country'] == 'Lithuania') | (power['country'] == 'Latvia') | (power['country'] == 'Estonia')) & \n",
    "              ((power.category == 21) | (power.category == 4) | (power.category == 12))]\n",
    "\n",
    "power[['quantity']].sum()\n",
    "\n",
    "#Baltics = {'Lithuania', 'Latvia', 'Estonia'}\n"
   ]
  },
  {
   "cell_type": "markdown",
   "id": "77180ede",
   "metadata": {},
   "source": [
    "# Задание 3"
   ]
  },
  {
   "cell_type": "code",
   "execution_count": 92,
   "id": "523ac9b4",
   "metadata": {},
   "outputs": [
    {
     "data": {
      "text/plain": [
       "(                           Название   Цена  Изменение  Изменение(%)  Обновлено\n",
       " 0  EURRUB Курс евро к рублю сегодня  86.77      -0.10         -0.12        NaN\n",
       " 1       USDRUB Курс рубля к доллару  73.33      -0.03         -0.05        NaN,\n",
       "                               Название    Цена  Изменение  Изменение(%)  \\\n",
       " 0       Нефть Brent Курс нефти сегодня   72.09       0.56          0.78   \n",
       " 1          Нефть WTI Цены на нефть WTI   68.82       0.38          0.56   \n",
       " 2  Природный газ Цена на природный газ    4.63       0.03          0.56   \n",
       " 3                                 Кофе  193.80       0.00          0.00   \n",
       " 4                             Кукуруза  512.40       2.20          0.43   \n",
       " 5                                  Соя  335.10      -0.20         -0.06   \n",
       " 6                               Хлопок   94.14       0.09          0.10   \n",
       " \n",
       "    Обновлено  \n",
       " 0        NaN  \n",
       " 1        NaN  \n",
       " 2        NaN  \n",
       " 3        NaN  \n",
       " 4        NaN  \n",
       " 5        NaN  \n",
       " 6        NaN  )"
      ]
     },
     "execution_count": 92,
     "metadata": {},
     "output_type": "execute_result"
    }
   ],
   "source": [
    "page_url = 'https://fortrader.org/quotes'\n",
    "\n",
    "table_1 = pd.read_html(page_url)[0]\n",
    "\n",
    "table_2 = pd.read_html(page_url)[1]\n",
    "\n",
    "table_1,table_2"
   ]
  }
 ],
 "metadata": {
  "kernelspec": {
   "display_name": "Python 3",
   "language": "python",
   "name": "python3"
  },
  "language_info": {
   "codemirror_mode": {
    "name": "ipython",
    "version": 3
   },
   "file_extension": ".py",
   "mimetype": "text/x-python",
   "name": "python",
   "nbconvert_exporter": "python",
   "pygments_lexer": "ipython3",
   "version": "3.8.8"
  }
 },
 "nbformat": 4,
 "nbformat_minor": 5
}
