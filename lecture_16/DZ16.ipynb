{
 "cells": [
  {
   "cell_type": "code",
   "execution_count": 2,
   "id": "d2ba29cc",
   "metadata": {},
   "outputs": [],
   "source": [
    "import numpy as np"
   ]
  },
  {
   "cell_type": "code",
   "execution_count": 113,
   "id": "1b0ee7d3",
   "metadata": {},
   "outputs": [
    {
     "name": "stdout",
     "output_type": "stream",
     "text": [
      "total loss per games= 20084353\n",
      "mean loss per game= 0.20084353\n"
     ]
    }
   ],
   "source": [
    "attempts = 100000000\n",
    "prize = 0 #Призовые\n",
    "\n",
    "for i in range(attempts):\n",
    "\n",
    "    random_result = str(np.random.randint(0, 1000))\n",
    "    \n",
    "    if (random_result != '0') & (len(random_result) == 1):\n",
    "        random_result = '00' + random_result\n",
    "    elif (len(random_result) == 2):\n",
    "        random_result = '0' + random_result\n",
    "    \n",
    "    if random_result == '777': \n",
    "        prize += 200\n",
    "    elif random_result == '999': \n",
    "        prize += 100\n",
    "    elif random_result == '555': \n",
    "        prize += 50 \n",
    "    elif random_result == '333': \n",
    "        prize += 15\n",
    "    elif random_result == '111': \n",
    "        prize += 10       \n",
    "    elif random_result[1:] == '77':\n",
    "        prize += 5\n",
    "    elif random_result[2:] == '7': \n",
    "        prize += 3\n",
    "    elif random_result[1:] == '00': \n",
    "        prize += 2\n",
    "    elif (random_result == '0') | (random_result[2:] == '0'):  \n",
    "        prize += 1\n",
    "    \n",
    "print('total loss per games=', attempts - prize)\n",
    "print('mean loss per game=', 1 - prize/attempts)"
   ]
  },
  {
   "cell_type": "markdown",
   "id": "5aa3e000",
   "metadata": {},
   "source": [
    "Теоретический расчет"
   ]
  },
  {
   "cell_type": "markdown",
   "id": "b9eac6b2",
   "metadata": {},
   "source": [
    "Рассчитаем вероятности для каждого выйгрыша:\n",
    "\n",
    "- для 5 самых больших выйгрышей вероятность одинаковая 1/1000, так как такие комбинации уникальны\n",
    "- для комбиаций *77 вероятность 1/100 - 1/1000 (исключаем \"777\") = 0.009\n",
    "- для комбиаций *00 вероятность 9/1000, нет комбинации \"000\", значит их 9 на 1000\n",
    "- для комбнаций **7 вероятность 1/10 исключая каждое 1/100 (все комбинации *77) = 0,09\n",
    "- для комбнаций **0 вероятность 1/10 исключая каждое 9/1000 (все комбинации *00) = 0,091\n",
    "\n",
    "Итого средний выйгрыш = "
   ]
  },
  {
   "cell_type": "code",
   "execution_count": 74,
   "id": "e15bfa9d",
   "metadata": {},
   "outputs": [
    {
     "data": {
      "text/plain": [
       "-0.20100000000000007"
      ]
     },
     "execution_count": 74,
     "metadata": {},
     "output_type": "execute_result"
    }
   ],
   "source": [
    "(200+100+50+15+10)*0.001 + 5*0.009 + 3*0.09 + 2*0.009 + 0.091 - 1"
   ]
  }
 ],
 "metadata": {
  "kernelspec": {
   "display_name": "Python 3",
   "language": "python",
   "name": "python3"
  },
  "language_info": {
   "codemirror_mode": {
    "name": "ipython",
    "version": 3
   },
   "file_extension": ".py",
   "mimetype": "text/x-python",
   "name": "python",
   "nbconvert_exporter": "python",
   "pygments_lexer": "ipython3",
   "version": "3.8.8"
  }
 },
 "nbformat": 4,
 "nbformat_minor": 5
}
