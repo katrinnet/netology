{
 "cells": [
  {
   "cell_type": "markdown",
   "id": "a476b0da",
   "metadata": {},
   "source": [
    "# Задание 1"
   ]
  },
  {
   "cell_type": "code",
   "execution_count": 1,
   "id": "a6bd65c9",
   "metadata": {},
   "outputs": [
    {
     "data": {
      "text/plain": [
       "datetime.datetime(2002, 10, 2, 0, 0)"
      ]
     },
     "execution_count": 1,
     "metadata": {},
     "output_type": "execute_result"
    }
   ],
   "source": [
    "\"\"\"\n",
    "The Moscow Times - Wednesday, October 2, 2002\n",
    "The Guardian - Friday, 11.10.13\n",
    "Daily News - Thursday, 18 August 1977\n",
    "\"\"\"\n",
    "\n",
    "from datetime import datetime\n",
    "\n",
    "datetime.strptime('Wednesday, October 2, 2002', '%A, %B %d, %Y')\n"
   ]
  },
  {
   "cell_type": "code",
   "execution_count": 2,
   "id": "06653365",
   "metadata": {},
   "outputs": [
    {
     "data": {
      "text/plain": [
       "datetime.datetime(2013, 10, 11, 0, 0)"
      ]
     },
     "execution_count": 2,
     "metadata": {},
     "output_type": "execute_result"
    }
   ],
   "source": [
    "datetime.strptime('Friday, 11.10.13', '%A, %d.%m.%y')"
   ]
  },
  {
   "cell_type": "code",
   "execution_count": 3,
   "id": "cd01cdab",
   "metadata": {},
   "outputs": [
    {
     "data": {
      "text/plain": [
       "datetime.datetime(1977, 8, 18, 0, 0)"
      ]
     },
     "execution_count": 3,
     "metadata": {},
     "output_type": "execute_result"
    }
   ],
   "source": [
    "datetime.strptime('Thursday, 18 August 1977', '%A, %d %B %Y')"
   ]
  },
  {
   "cell_type": "markdown",
   "id": "64d29b9b",
   "metadata": {},
   "source": [
    "# Задание 2"
   ]
  },
  {
   "cell_type": "code",
   "execution_count": 7,
   "id": "433dd92b",
   "metadata": {},
   "outputs": [
    {
     "name": "stdout",
     "output_type": "stream",
     "text": [
      "2018-04-02  - true\n",
      "2018-02-29 - false\n",
      "2018-19-02 - false\n"
     ]
    }
   ],
   "source": [
    "from datetime import datetime\n",
    "\n",
    "stream = ['2018-04-02', '2018-02-29', '2018-19-02']\n",
    "\n",
    "def correct_date(dates):\n",
    "    for item in dates:\n",
    "        try:\n",
    "            datetime.strptime(item, '%Y-%m-%d')\n",
    "            print(item,' - true')\n",
    "        except:\n",
    "            print(item,'- false')\n",
    "            \n",
    "correct_date(stream)  \n",
    "    "
   ]
  },
  {
   "cell_type": "markdown",
   "id": "9ba5dd68",
   "metadata": {},
   "source": [
    "# Задание 3"
   ]
  },
  {
   "cell_type": "code",
   "execution_count": 13,
   "id": "bb7b07b6",
   "metadata": {},
   "outputs": [
    {
     "name": "stdout",
     "output_type": "stream",
     "text": [
      "['2020-11-01', '2020-11-02', '2020-11-03', '2020-11-04', '2020-11-05', '2020-11-06', '2020-11-07', '2020-11-08', '2020-11-09', '2020-11-10', '2020-11-11', '2020-11-12', '2020-11-13', '2020-11-14', '2020-11-15', '2020-11-16', '2020-11-17', '2020-11-18', '2020-11-19', '2020-11-20', '2020-11-21']\n"
     ]
    }
   ],
   "source": [
    "from datetime import datetime\n",
    "from datetime import timedelta\n",
    "\n",
    "start_date = '2020-11-01'\n",
    "end_date = '2020-11-21'\n",
    "\n",
    "def date_range(start, end):\n",
    "    date_list = []\n",
    "    try:\n",
    "        current_dt = datetime.strptime(start, '%Y-%m-%d')\n",
    "        end_date_dt= datetime.strptime(end, '%Y-%m-%d')\n",
    "        \n",
    "        while current_dt <= end_date_dt:\n",
    "            date_list.append(current_dt.strftime('%Y-%m-%d'))\n",
    "            current_dt += timedelta(days = 1)\n",
    "        return date_list\n",
    "    except:\n",
    "        return date_list\n",
    "    \n",
    "print(date_range(start_date, end_date))\n",
    "        \n",
    "            \n",
    "    \n",
    "    "
   ]
  },
  {
   "cell_type": "markdown",
   "id": "63d2759f",
   "metadata": {},
   "source": [
    "# Задание 4"
   ]
  },
  {
   "cell_type": "markdown",
   "id": "90f06793",
   "metadata": {},
   "source": [
    "1. Что значит ошибка list index out of range? \n",
    "Ошибка list index out of range означает, что индекс, который мы запрашиваем, за пределами допустимых индексов итерируемого объекта, т.е. элемента с таким индексом у нас просто нет.\n",
    "\n",
    "2. Почему при первом запуске функция работает корректно, а при втором - нет?\n",
    "Т.к. в реализованной функции  удаление элемента default_list.remove(element_to_delete) идет перед возвращения результата return default_list[DEFAULT_USER_COUNT-2], на момент возвращения результата при втором запуске функции уже удалятся 2 элемента из 3х [‘A100’, ‘A101’, ‘A102’], а следовательно, в default_list не будет элемента с индексом 1.\n"
   ]
  }
 ],
 "metadata": {
  "kernelspec": {
   "display_name": "Python 3",
   "language": "python",
   "name": "python3"
  },
  "language_info": {
   "codemirror_mode": {
    "name": "ipython",
    "version": 3
   },
   "file_extension": ".py",
   "mimetype": "text/x-python",
   "name": "python",
   "nbconvert_exporter": "python",
   "pygments_lexer": "ipython3",
   "version": "3.8.8"
  }
 },
 "nbformat": 4,
 "nbformat_minor": 5
}
