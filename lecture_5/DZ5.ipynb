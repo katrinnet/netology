{
 "cells": [
  {
   "cell_type": "markdown",
   "id": "7c4204e9",
   "metadata": {},
   "source": [
    "# Задание 1"
   ]
  },
  {
   "cell_type": "code",
   "execution_count": 14,
   "id": "f67e06ae",
   "metadata": {},
   "outputs": [],
   "source": [
    "import json\n",
    "\n",
    "purchase_dict = {}\n",
    "with open('purchase_log.txt', 'r', encoding='utf-8') as f:\n",
    "    for i, line in enumerate(f) :\n",
    "        line = line.strip()\n",
    "        if i > 0:\n",
    "            purchase_dict[json.loads(line)['user_id']] = json.loads(line)['category']\n",
    "#        print(purchase_dict)\n",
    "\n",
    "#        i += 1\n",
    "#        if i > 5:\n",
    "#           break"
   ]
  },
  {
   "cell_type": "markdown",
   "id": "cc30c3a9",
   "metadata": {},
   "source": [
    "# Задание 2"
   ]
  },
  {
   "cell_type": "code",
   "execution_count": 21,
   "id": "db4939a2",
   "metadata": {},
   "outputs": [],
   "source": [
    "with open('visit_log.csv', 'r') as f1:\n",
    "    with open('funnel.csv', 'w') as f2:\n",
    "        for i, line in enumerate(f1):\n",
    "            correct_line = line.strip().split(',')\n",
    "            if correct_line[0] in purchase_dict.keys() and purchase_dict[correct_line[0]] != 'не определена':\n",
    "                correct_line.append(purchase_dict[correct_line[0]])\n",
    "                f2.write(','.join(correct_line) + '\\n')\n"
   ]
  }
 ],
 "metadata": {
  "kernelspec": {
   "display_name": "Python 3",
   "language": "python",
   "name": "python3"
  },
  "language_info": {
   "codemirror_mode": {
    "name": "ipython",
    "version": 3
   },
   "file_extension": ".py",
   "mimetype": "text/x-python",
   "name": "python",
   "nbconvert_exporter": "python",
   "pygments_lexer": "ipython3",
   "version": "3.8.8"
  }
 },
 "nbformat": 4,
 "nbformat_minor": 5
}
