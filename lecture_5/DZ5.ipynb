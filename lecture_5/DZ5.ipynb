{
 "cells": [
  {
   "cell_type": "markdown",
   "id": "7c4204e9",
   "metadata": {},
   "source": [
    "# Задание 1"
   ]
  },
  {
   "cell_type": "code",
   "execution_count": 3,
   "id": "f67e06ae",
   "metadata": {},
   "outputs": [
    {
     "name": "stdout",
     "output_type": "stream",
     "text": [
      "0 {'user_id': 'user_id', 'category': 'category'} <class 'dict'>\n",
      "1 {'user_id': '1840e0b9d4', 'category': 'РџСЂРѕРґСѓРєС‚С‹'} <class 'dict'>\n",
      "2 {'user_id': '4e4f90fcfb', 'category': 'Р\\xadР»РµРєС‚СЂРѕРЅРёРєР°'} <class 'dict'>\n",
      "3 {'user_id': 'afea8d72fc', 'category': 'Р\\xadР»РµРєС‚СЂРѕРЅРёРєР°'} <class 'dict'>\n",
      "4 {'user_id': '373a6055fe', 'category': 'Р‘С‹С‚РѕРІР°СЏ С‚РµС…РЅРёРєР°'} <class 'dict'>\n",
      "5 {'user_id': '9b2ab046f3', 'category': 'Р\\xadР»РµРєС‚СЂРѕРЅРёРєР°'} <class 'dict'>\n"
     ]
    }
   ],
   "source": [
    "import json\n",
    "\n",
    "f = open('purchase_log.txt', 'r')\n",
    "\n",
    "purchase_log = f.readlines()\n",
    "\n",
    "f.close()\n",
    "\n",
    "for i, line in enumerate(purchase_log):\n",
    "    line = line.strip()\n",
    "\n",
    "    purchase_dict = json.loads(line)\n",
    "#     print(i, purchase_dict, type(purchase_dict))\n",
    "\n",
    "#     i += 1\n",
    "#     if i > 5:\n",
    "#         break"
   ]
  },
  {
   "cell_type": "markdown",
   "id": "cc30c3a9",
   "metadata": {},
   "source": [
    "# Задание 2"
   ]
  },
  {
   "cell_type": "code",
   "execution_count": 11,
   "id": "db4939a2",
   "metadata": {},
   "outputs": [],
   "source": [
    "with open('visit_log.csv', 'r') as f1:\n",
    "    with open('funnel.csv', 'w') as f2:\n",
    "        for i, line in enumerate(f1):\n",
    "            correct_line = line.strip().split(',')\n",
    "            if len(correct_line) > 2:\n",
    "                f2.write(line)\n",
    "#             if i > 16:\n",
    "#                 break"
   ]
  }
 ],
 "metadata": {
  "kernelspec": {
   "display_name": "Python 3",
   "language": "python",
   "name": "python3"
  },
  "language_info": {
   "codemirror_mode": {
    "name": "ipython",
    "version": 3
   },
   "file_extension": ".py",
   "mimetype": "text/x-python",
   "name": "python",
   "nbconvert_exporter": "python",
   "pygments_lexer": "ipython3",
   "version": "3.8.8"
  }
 },
 "nbformat": 4,
 "nbformat_minor": 5
}
